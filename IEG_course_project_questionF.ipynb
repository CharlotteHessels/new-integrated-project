{
 "cells": [
  {
   "cell_type": "markdown",
   "metadata": {
    "id": "BGW_goJklh96"
   },
   "source": [
    "# Course project\n",
    "\n",
    "This notebook includes the steps to optimize the capacity and dispatch of generators in a stylized energy system. It has been prepared to serve as a tutorial for a simple PyPSA model representing the energy system in one country, city or region. \n",
    " \n",
    "\n",
    "For the (optional) project of the course [Integrated Energy Grids](https://kurser.dtu.dk/course/2024-2025/46770?menulanguage=en) you need to deliver a report including the sections described at the end of this notebook.\n",
    "\n",
    "Please, review the [PyPSA tutorial](https://martavp.github.io/integrated-energy-grids/intro-pypsa.html) before starting this project."
   ]
  },
  {
   "cell_type": "markdown",
   "metadata": {},
   "source": [
    ":::{note}\n",
    "If you have not yet set up Python on your computer, you can execute this tutorial in your browser via [Google Colab](https://colab.research.google.com/). Click on the rocket in the top right corner and launch \"Colab\". If that doesn't work download the `.ipynb` file and import it in [Google Colab](https://colab.research.google.com/).\n",
    "\n",
    "Then install `pandas` and `pypsa` by executing the following command in a Jupyter cell at the top of the notebook.\n",
    "\n",
    "```sh\n",
    "!pip install pandas pypsa\n",
    "```\n",
    ":::"
   ]
  },
  {
   "cell_type": "code",
   "execution_count": 37,
   "metadata": {
    "ExecuteTime": {
     "end_time": "2025-03-07T13:59:31.262104Z",
     "start_time": "2025-03-07T13:59:27.860857Z"
    },
    "colab": {
     "base_uri": "https://localhost:8080/"
    },
    "id": "SdJsOhJrlh98",
    "outputId": "af302421-fbfa-4363-81f3-58fa82e4b134"
   },
   "outputs": [
    {
     "name": "stdout",
     "output_type": "stream",
     "text": [
      "Requirement already satisfied: pypsa in c:\\users\\const\\anaconda\\lib\\site-packages (0.33.1)Note: you may need to restart the kernel to use updated packages.\n",
      "\n",
      "Requirement already satisfied: numpy in c:\\users\\const\\anaconda\\lib\\site-packages (from pypsa) (1.26.4)\n",
      "Requirement already satisfied: scipy in c:\\users\\const\\anaconda\\lib\\site-packages (from pypsa) (1.13.1)\n",
      "Requirement already satisfied: pandas>=0.24 in c:\\users\\const\\anaconda\\lib\\site-packages (from pypsa) (2.2.2)\n",
      "Requirement already satisfied: xarray in c:\\users\\const\\anaconda\\lib\\site-packages (from pypsa) (2025.1.2)\n",
      "Requirement already satisfied: netcdf4 in c:\\users\\const\\anaconda\\lib\\site-packages (from pypsa) (1.7.2)\n",
      "Requirement already satisfied: linopy>=0.4 in c:\\users\\const\\anaconda\\lib\\site-packages (from pypsa) (0.5.0)\n",
      "Requirement already satisfied: matplotlib in c:\\users\\const\\anaconda\\lib\\site-packages (from pypsa) (3.9.2)\n",
      "Requirement already satisfied: geopandas>=0.9 in c:\\users\\const\\anaconda\\lib\\site-packages (from pypsa) (1.0.1)\n",
      "Requirement already satisfied: networkx>=2 in c:\\users\\const\\anaconda\\lib\\site-packages (from pypsa) (3.3)\n",
      "Requirement already satisfied: deprecation in c:\\users\\const\\anaconda\\lib\\site-packages (from pypsa) (2.1.0)\n",
      "Requirement already satisfied: validators in c:\\users\\const\\anaconda\\lib\\site-packages (from pypsa) (0.34.0)\n",
      "Requirement already satisfied: highspy in c:\\users\\const\\anaconda\\lib\\site-packages (from pypsa) (1.9.0)\n",
      "Requirement already satisfied: pyogrio>=0.7.2 in c:\\users\\const\\anaconda\\lib\\site-packages (from geopandas>=0.9->pypsa) (0.10.0)\n",
      "Requirement already satisfied: packaging in c:\\users\\const\\anaconda\\lib\\site-packages (from geopandas>=0.9->pypsa) (24.1)\n",
      "Requirement already satisfied: pyproj>=3.3.0 in c:\\users\\const\\anaconda\\lib\\site-packages (from geopandas>=0.9->pypsa) (3.7.1)\n",
      "Requirement already satisfied: shapely>=2.0.0 in c:\\users\\const\\anaconda\\lib\\site-packages (from geopandas>=0.9->pypsa) (2.0.7)\n",
      "Requirement already satisfied: bottleneck in c:\\users\\const\\anaconda\\lib\\site-packages (from linopy>=0.4->pypsa) (1.3.7)\n",
      "Requirement already satisfied: toolz in c:\\users\\const\\anaconda\\lib\\site-packages (from linopy>=0.4->pypsa) (0.12.0)\n",
      "Requirement already satisfied: numexpr in c:\\users\\const\\anaconda\\lib\\site-packages (from linopy>=0.4->pypsa) (2.8.7)\n",
      "Requirement already satisfied: dask>=0.18.0 in c:\\users\\const\\anaconda\\lib\\site-packages (from linopy>=0.4->pypsa) (2024.8.2)\n",
      "Requirement already satisfied: polars in c:\\users\\const\\anaconda\\lib\\site-packages (from linopy>=0.4->pypsa) (1.22.0)\n",
      "Requirement already satisfied: tqdm in c:\\users\\const\\anaconda\\lib\\site-packages (from linopy>=0.4->pypsa) (4.66.5)\n",
      "Requirement already satisfied: python-dateutil>=2.8.2 in c:\\users\\const\\anaconda\\lib\\site-packages (from pandas>=0.24->pypsa) (2.9.0.post0)\n",
      "Requirement already satisfied: pytz>=2020.1 in c:\\users\\const\\anaconda\\lib\\site-packages (from pandas>=0.24->pypsa) (2024.1)\n",
      "Requirement already satisfied: tzdata>=2022.7 in c:\\users\\const\\anaconda\\lib\\site-packages (from pandas>=0.24->pypsa) (2023.3)\n",
      "Requirement already satisfied: contourpy>=1.0.1 in c:\\users\\const\\anaconda\\lib\\site-packages (from matplotlib->pypsa) (1.2.0)\n",
      "Requirement already satisfied: cycler>=0.10 in c:\\users\\const\\anaconda\\lib\\site-packages (from matplotlib->pypsa) (0.11.0)\n",
      "Requirement already satisfied: fonttools>=4.22.0 in c:\\users\\const\\anaconda\\lib\\site-packages (from matplotlib->pypsa) (4.51.0)\n",
      "Requirement already satisfied: kiwisolver>=1.3.1 in c:\\users\\const\\anaconda\\lib\\site-packages (from matplotlib->pypsa) (1.4.4)\n",
      "Requirement already satisfied: pillow>=8 in c:\\users\\const\\anaconda\\lib\\site-packages (from matplotlib->pypsa) (10.4.0)\n",
      "Requirement already satisfied: pyparsing>=2.3.1 in c:\\users\\const\\anaconda\\lib\\site-packages (from matplotlib->pypsa) (3.1.2)\n",
      "Requirement already satisfied: cftime in c:\\users\\const\\anaconda\\lib\\site-packages (from netcdf4->pypsa) (1.6.4.post1)\n",
      "Requirement already satisfied: certifi in c:\\users\\const\\anaconda\\lib\\site-packages (from netcdf4->pypsa) (2025.1.31)\n",
      "Requirement already satisfied: click>=8.1 in c:\\users\\const\\anaconda\\lib\\site-packages (from dask>=0.18.0->linopy>=0.4->pypsa) (8.1.7)\n",
      "Requirement already satisfied: cloudpickle>=3.0.0 in c:\\users\\const\\anaconda\\lib\\site-packages (from dask>=0.18.0->linopy>=0.4->pypsa) (3.0.0)\n",
      "Requirement already satisfied: fsspec>=2021.09.0 in c:\\users\\const\\anaconda\\lib\\site-packages (from dask>=0.18.0->linopy>=0.4->pypsa) (2024.6.1)\n",
      "Requirement already satisfied: partd>=1.4.0 in c:\\users\\const\\anaconda\\lib\\site-packages (from dask>=0.18.0->linopy>=0.4->pypsa) (1.4.1)\n",
      "Requirement already satisfied: pyyaml>=5.3.1 in c:\\users\\const\\anaconda\\lib\\site-packages (from dask>=0.18.0->linopy>=0.4->pypsa) (6.0.1)\n",
      "Requirement already satisfied: six>=1.5 in c:\\users\\const\\anaconda\\lib\\site-packages (from python-dateutil>=2.8.2->pandas>=0.24->pypsa) (1.16.0)\n",
      "Requirement already satisfied: colorama in c:\\users\\const\\anaconda\\lib\\site-packages (from tqdm->linopy>=0.4->pypsa) (0.4.6)\n",
      "Requirement already satisfied: locket in c:\\users\\const\\anaconda\\lib\\site-packages (from partd>=1.4.0->dask>=0.18.0->linopy>=0.4->pypsa) (1.0.0)\n"
     ]
    }
   ],
   "source": [
    "pip install pypsa\n"
   ]
  },
  {
   "cell_type": "code",
   "execution_count": 38,
   "metadata": {
    "ExecuteTime": {
     "end_time": "2025-03-07T13:59:31.279604Z",
     "start_time": "2025-03-07T13:59:31.275434Z"
    }
   },
   "outputs": [],
   "source": [
    "import pandas as pd\n",
    "import pypsa\n",
    "\n",
    "\n"
   ]
  },
  {
   "cell_type": "markdown",
   "metadata": {
    "id": "zqdclW57lh-A"
   },
   "source": [
    "We start by creating the network. In this example, the country is modelled as a single node, so the network includes only one bus.\n",
    "\n",
    "We select the year 2015 and set the hours in that year as snapshots.\n",
    "\n",
    "We select a country, in this case Denmark (DNK), and add one node (electricity bus) to the network."
   ]
  },
  {
   "cell_type": "code",
   "execution_count": 39,
   "metadata": {
    "ExecuteTime": {
     "end_time": "2025-03-07T13:59:31.513048Z",
     "start_time": "2025-03-07T13:59:31.357200Z"
    },
    "colab": {
     "base_uri": "https://localhost:8080/",
     "height": 446
    },
    "id": "UElULGBVlh-C",
    "outputId": "b77ed0b5-fb74-4ec2-db18-e2a341b267fa"
   },
   "outputs": [
    {
     "data": {
      "text/plain": [
       "DatetimeIndex(['2017-01-01 00:00:00', '2017-01-01 01:00:00',\n",
       "               '2017-01-01 02:00:00', '2017-01-01 03:00:00',\n",
       "               '2017-01-01 04:00:00', '2017-01-01 05:00:00',\n",
       "               '2017-01-01 06:00:00', '2017-01-01 07:00:00',\n",
       "               '2017-01-01 08:00:00', '2017-01-01 09:00:00',\n",
       "               ...\n",
       "               '2017-12-31 14:00:00', '2017-12-31 15:00:00',\n",
       "               '2017-12-31 16:00:00', '2017-12-31 17:00:00',\n",
       "               '2017-12-31 18:00:00', '2017-12-31 19:00:00',\n",
       "               '2017-12-31 20:00:00', '2017-12-31 21:00:00',\n",
       "               '2017-12-31 22:00:00', '2017-12-31 23:00:00'],\n",
       "              dtype='datetime64[ns]', name='snapshot', length=8760, freq=None)"
      ]
     },
     "execution_count": 39,
     "metadata": {},
     "output_type": "execute_result"
    }
   ],
   "source": [
    "network = pypsa.Network()\n",
    "hours_in_2000 = pd.date_range('2017-01-01 00:00Z',\n",
    "                              '2017-12-31 23:00Z',\n",
    "                              freq='h')\n",
    "\n",
    "network.set_snapshots(hours_in_2000.values)\n",
    "\n",
    "network.add(\"Bus\",\n",
    "            \"electricity bus\")\n",
    "\n",
    "\n",
    "network.add(\"Bus\",\n",
    "            \"electricity bus GERMANY\")\n",
    "\n",
    "network.add(\"Bus\",\n",
    "            \"electricity bus BELGIUM\")\n",
    "\n",
    "network.snapshots\n"
   ]
  },
  {
   "cell_type": "markdown",
   "metadata": {
    "id": "qMeYet1Blh-D"
   },
   "source": [
    "The demand is represented by the historical electricity demand in 2015 with hourly resolution.\n",
    "\n",
    "The file with historical hourly electricity demand for every European country is available in the data folder.\n",
    "\n",
    "The electricity demand time series were obtained from ENTSOE through the very convenient compilation carried out by the Open Power System Data (OPSD). https://data.open-power-system-data.org/time_series/"
   ]
  },
  {
   "cell_type": "code",
   "execution_count": 40,
   "metadata": {
    "ExecuteTime": {
     "end_time": "2025-03-07T13:59:31.603874Z",
     "start_time": "2025-03-07T13:59:31.525858Z"
    },
    "id": "Y8lgJWVxlh-E",
    "outputId": "f63f12ad-3f84-42e8-fb40-7e88e215aeb1"
   },
   "outputs": [
    {
     "name": "stdout",
     "output_type": "stream",
     "text": [
      "utc_time\n",
      "2015-01-01 00:00:00+00:00    11338.0\n",
      "2015-01-01 01:00:00+00:00    10917.0\n",
      "2015-01-01 02:00:00+00:00    10473.0\n",
      "2015-01-01 03:00:00+00:00    10200.0\n",
      "2015-01-01 04:00:00+00:00    10182.0\n",
      "Name: NLD, dtype: float64\n"
     ]
    }
   ],
   "source": [
    "# load electricity demand data\n",
    "df_elec = pd.read_csv('electricity_demand.csv', sep=';', index_col=0) # in MWh\n",
    "df_elec.index = pd.to_datetime(df_elec.index) #change index to datatime\n",
    "country='NLD'\n",
    "country2 = 'DEU'\n",
    "country3 = 'BEL'\n",
    "print(df_elec[country].head())"
   ]
  },
  {
   "cell_type": "code",
   "execution_count": 43,
   "metadata": {
    "ExecuteTime": {
     "end_time": "2025-03-07T13:59:31.656825Z",
     "start_time": "2025-03-07T13:59:31.639418Z"
    },
    "id": "tGoVGnNmlh-F"
   },
   "outputs": [
    {
     "name": "stderr",
     "output_type": "stream",
     "text": [
      "WARNING:pypsa.io:The following loads are already defined and will be skipped (use overwrite=True to overwrite): load\n",
      "WARNING:pypsa.io:The following loads are already defined and will be skipped (use overwrite=True to overwrite): load\n",
      "WARNING:pypsa.io:The following loads are already defined and will be skipped (use overwrite=True to overwrite): load\n",
      "WARNING:pypsa.io:The following links are already defined and will be skipped (use overwrite=True to overwrite): country - country2\n",
      "WARNING:pypsa.io:The following links are already defined and will be skipped (use overwrite=True to overwrite): country - country2\n"
     ]
    },
    {
     "data": {
      "text/plain": [
       "Index(['country - country2'], dtype='object')"
      ]
     },
     "execution_count": 43,
     "metadata": {},
     "output_type": "execute_result"
    }
   ],
   "source": [
    "# add load to the bus\n",
    "network.add(\"Load\",\n",
    "            \"load\",\n",
    "            bus=\"electricity bus\",\n",
    "            p_set=df_elec[country].values)\n",
    "\n",
    "network.add(\"Load\",\n",
    "            \"load\",\n",
    "            bus=\"electricity bus GERMANY\",\n",
    "            p_set=df_elec[country2].values)\n",
    "\n",
    "network.add(\"Load\",\n",
    "            \"load\",\n",
    "            bus=\"electricity bus BELGIUM\",\n",
    "            p_set=df_elec[country3].values)\n",
    "\n",
    "network.add(\"Link\",\n",
    "             'country - country2',\n",
    "             bus0=\"electricity bus\",\n",
    "             bus1=\"electricity bus GERMANY\",\n",
    "             p_nom_extendable=True, # capacity is optimised\n",
    "             p_min_pu=-1,\n",
    "             length=600, # length (in km) between country a and country b\n",
    "             capital_cost=400*600) # capital cost * length\n",
    "\n",
    "network.add(\"Link\",\n",
    "             'country - country2',\n",
    "             bus0=\"electricity bus\",\n",
    "             bus1=\"electricity bus BELGIUM\",\n",
    "             p_nom_extendable=True, # capacity is optimised\n",
    "             p_min_pu=-1,\n",
    "             length=600, # length (in km) between country a and country b\n",
    "             capital_cost=400*600) # capital cost * length\n",
    "\n"
   ]
  },
  {
   "cell_type": "markdown",
   "metadata": {
    "id": "BCkiEvu2lh-H"
   },
   "source": [
    "Print the load time series to check that it has been properly added (you should see numbers and not 'NaN')"
   ]
  },
  {
   "cell_type": "code",
   "execution_count": 44,
   "metadata": {
    "ExecuteTime": {
     "end_time": "2025-03-07T13:59:31.715482Z",
     "start_time": "2025-03-07T13:59:31.698512Z"
    },
    "id": "Z791IbiHlh-I",
    "outputId": "c4d8f75a-9e6d-4174-ea21-5f0065a94ebd"
   },
   "outputs": [
    {
     "data": {
      "text/html": [
       "<div>\n",
       "<style scoped>\n",
       "    .dataframe tbody tr th:only-of-type {\n",
       "        vertical-align: middle;\n",
       "    }\n",
       "\n",
       "    .dataframe tbody tr th {\n",
       "        vertical-align: top;\n",
       "    }\n",
       "\n",
       "    .dataframe thead th {\n",
       "        text-align: right;\n",
       "    }\n",
       "</style>\n",
       "<table border=\"1\" class=\"dataframe\">\n",
       "  <thead>\n",
       "    <tr style=\"text-align: right;\">\n",
       "      <th>Load</th>\n",
       "      <th>load</th>\n",
       "    </tr>\n",
       "    <tr>\n",
       "      <th>snapshot</th>\n",
       "      <th></th>\n",
       "    </tr>\n",
       "  </thead>\n",
       "  <tbody>\n",
       "    <tr>\n",
       "      <th>2017-01-01 00:00:00</th>\n",
       "      <td>11338.0</td>\n",
       "    </tr>\n",
       "    <tr>\n",
       "      <th>2017-01-01 01:00:00</th>\n",
       "      <td>10917.0</td>\n",
       "    </tr>\n",
       "    <tr>\n",
       "      <th>2017-01-01 02:00:00</th>\n",
       "      <td>10473.0</td>\n",
       "    </tr>\n",
       "    <tr>\n",
       "      <th>2017-01-01 03:00:00</th>\n",
       "      <td>10200.0</td>\n",
       "    </tr>\n",
       "    <tr>\n",
       "      <th>2017-01-01 04:00:00</th>\n",
       "      <td>10182.0</td>\n",
       "    </tr>\n",
       "    <tr>\n",
       "      <th>...</th>\n",
       "      <td>...</td>\n",
       "    </tr>\n",
       "    <tr>\n",
       "      <th>2017-12-31 19:00:00</th>\n",
       "      <td>12958.0</td>\n",
       "    </tr>\n",
       "    <tr>\n",
       "      <th>2017-12-31 20:00:00</th>\n",
       "      <td>12263.0</td>\n",
       "    </tr>\n",
       "    <tr>\n",
       "      <th>2017-12-31 21:00:00</th>\n",
       "      <td>11772.0</td>\n",
       "    </tr>\n",
       "    <tr>\n",
       "      <th>2017-12-31 22:00:00</th>\n",
       "      <td>11563.0</td>\n",
       "    </tr>\n",
       "    <tr>\n",
       "      <th>2017-12-31 23:00:00</th>\n",
       "      <td>11373.0</td>\n",
       "    </tr>\n",
       "  </tbody>\n",
       "</table>\n",
       "<p>8760 rows × 1 columns</p>\n",
       "</div>"
      ],
      "text/plain": [
       "Load                    load\n",
       "snapshot                    \n",
       "2017-01-01 00:00:00  11338.0\n",
       "2017-01-01 01:00:00  10917.0\n",
       "2017-01-01 02:00:00  10473.0\n",
       "2017-01-01 03:00:00  10200.0\n",
       "2017-01-01 04:00:00  10182.0\n",
       "...                      ...\n",
       "2017-12-31 19:00:00  12958.0\n",
       "2017-12-31 20:00:00  12263.0\n",
       "2017-12-31 21:00:00  11772.0\n",
       "2017-12-31 22:00:00  11563.0\n",
       "2017-12-31 23:00:00  11373.0\n",
       "\n",
       "[8760 rows x 1 columns]"
      ]
     },
     "execution_count": 44,
     "metadata": {},
     "output_type": "execute_result"
    }
   ],
   "source": [
    "network.loads_t.p_set"
   ]
  },
  {
   "cell_type": "markdown",
   "metadata": {
    "id": "z0Xa6qINlh-J"
   },
   "source": [
    "In the optimization, we will minimize the annualized system costs.\n",
    "\n",
    "We will need to annualize the cost of every generator, we build a function to do it."
   ]
  },
  {
   "cell_type": "code",
   "execution_count": 45,
   "metadata": {
    "ExecuteTime": {
     "end_time": "2025-03-07T13:59:31.795733Z",
     "start_time": "2025-03-07T13:59:31.790053Z"
    },
    "id": "8FwQn-1Glh-K"
   },
   "outputs": [],
   "source": [
    "def annuity(n,r):\n",
    "    \"\"\" Calculate the annuity factor for an asset with lifetime n years and\n",
    "    discount rate  r \"\"\"\n",
    "\n",
    "    if r > 0:\n",
    "        return r/(1. - 1./(1.+r)**n)\n",
    "    else:\n",
    "        return 1/n\n"
   ]
  },
  {
   "cell_type": "markdown",
   "metadata": {
    "id": "qmgek0dplh-K"
   },
   "source": [
    "We include solar PV and onshore wind generators.\n",
    "\n",
    "The capacity factors representing the availability of those generators for every European country can be downloaded from the following repositories (select 'optimal' for PV and onshore for wind).\n",
    "\n",
    "https://zenodo.org/record/3253876#.XSiVOEdS8l0\n",
    "\n",
    "https://zenodo.org/record/2613651#.XSiVOkdS8l0\n",
    "\n",
    "We include also Open Cycle Gas Turbine (OCGT) generators\n",
    "\n",
    "The cost assumed for the generators are the same as in Table 1 in the paper https://doi.org/10.1016/j.enconman.2019.111977 (open version:  https://arxiv.org/pdf/1906.06936.pdf)"
   ]
  },
  {
   "cell_type": "code",
   "execution_count": null,
   "metadata": {
    "ExecuteTime": {
     "end_time": "2025-03-07T13:59:34.674043Z",
     "start_time": "2025-03-07T13:59:31.846512Z"
    },
    "id": "Z76IMqR7lh-K"
   },
   "outputs": [
    {
     "name": "stderr",
     "output_type": "stream",
     "text": [
      "WARNING:pypsa.io:The following carriers are already defined and will be skipped (use overwrite=True to overwrite): gas\n"
     ]
    },
    {
     "name": "stderr",
     "output_type": "stream",
     "text": [
      "WARNING:pypsa.io:The following carriers are already defined and will be skipped (use overwrite=True to overwrite): onshorewind\n",
      "WARNING:pypsa.io:The following carriers are already defined and will be skipped (use overwrite=True to overwrite): solar\n",
      "WARNING:pypsa.io:The following generators are already defined and will be skipped (use overwrite=True to overwrite): onshorewind\n",
      "WARNING:pypsa.io:The following generators are already defined and will be skipped (use overwrite=True to overwrite): onshorewind\n",
      "WARNING:pypsa.io:The following generators are already defined and will be skipped (use overwrite=True to overwrite): solar\n",
      "WARNING:pypsa.io:The following generators are already defined and will be skipped (use overwrite=True to overwrite): OCGT\n"
     ]
    },
    {
     "name": "stdout",
     "output_type": "stream",
     "text": [
      "Average Capacity Factor for Solar : 10.88%\n",
      "Average Capacity Factor for Onshore Wind: 20.93%\n",
      "utc_time\n",
      "2017-01-01 00:00:00+00:00    0.350\n",
      "2017-01-01 01:00:00+00:00    0.377\n",
      "2017-01-01 02:00:00+00:00    0.385\n",
      "2017-01-01 03:00:00+00:00    0.400\n",
      "2017-01-01 04:00:00+00:00    0.406\n",
      "                             ...  \n",
      "2017-12-31 19:00:00+00:00    0.468\n",
      "2017-12-31 20:00:00+00:00    0.595\n",
      "2017-12-31 21:00:00+00:00    0.684\n",
      "2017-12-31 22:00:00+00:00    0.762\n",
      "2017-12-31 23:00:00+00:00    0.827\n",
      "Name: NLD, Length: 8760, dtype: float64\n",
      "Average solar annual mean 0.11, \n",
      "Normalized Standar deviation 0.07 %\n"
     ]
    },
    {
     "data": {
      "text/plain": [
       "<Axes: xlabel='utc_time', ylabel='Capacity Factor onshore wind'>"
      ]
     },
     "execution_count": 55,
     "metadata": {},
     "output_type": "execute_result"
    },
    {
     "data": {
      "image/png": "[encoded data removed]",
      "text/plain": [
       "<Figure size 640x480 with 1 Axes>"
      ]
     },
     "metadata": {},
     "output_type": "display_data"
    }
   ],
   "source": [
    "# add the different carriers, only gas emits CO2\n",
    "network.add(\"Carrier\", \"gas\", co2_emissions=0.19) # in t_CO2/MWh_th\n",
    "network.add(\"Carrier\", \"onshorewind\")\n",
    "network.add(\"Carrier\", \"solar\")\n",
    "\n",
    "# add onshore wind generator\n",
    "df_onshorewind = pd.read_csv('onshore_wind_1979-2017.csv', sep=';', index_col=0)\n",
    "df_onshorewind.index = pd.to_datetime(df_onshorewind.index)\n",
    "CF_wind = df_onshorewind[country][[hour.strftime(\"%Y-%m-%dT%H:%M:%SZ\") for hour in network.snapshots]]\n",
    "#the capacity factor is being extracted with this line above\n",
    "capital_cost_onshorewind = annuity(30,0.07)*910000*(1+0.033) # in €/MW, this is a formula to calculate annuality in function of years, interest, investment costs and a fix factor\n",
    "network.add(\"Generator\",\n",
    "            \"onshorewind\",\n",
    "            bus=\"electricity bus\",\n",
    "            p_nom_extendable=True,\n",
    "            carrier=\"onshorewind\",\n",
    "            #p_nom_max=1000, # maximum capacity can be limited due to environmental constraints\n",
    "            capital_cost = capital_cost_onshorewind,\n",
    "            marginal_cost = 0,\n",
    "            p_max_pu = CF_wind.values)\n",
    "\n",
    "network.add(\"Generator\",\n",
    "            \"onshorewind\",\n",
    "            bus=\"electricity bus GERMANY\",\n",
    "            p_nom_extendable=True,\n",
    "            carrier=\"onshorewind\",\n",
    "            #p_nom_max=1000, # maximum capacity can be limited due to environmental constraints\n",
    "            capital_cost = capital_cost_onshorewind,\n",
    "            marginal_cost = 0,\n",
    "            p_max_pu = CF_wind.values)\n",
    "\n",
    "network.add(\"Generator\",\n",
    "            \"onshorewind\",\n",
    "            bus=\"electricity bus BELGIUM\",\n",
    "            p_nom_extendable=True,\n",
    "            carrier=\"onshorewind\",\n",
    "            #p_nom_max=1000, # maximum capacity can be limited due to environmental constraints\n",
    "            capital_cost = capital_cost_onshorewind,\n",
    "            marginal_cost = 0,\n",
    "            p_max_pu = CF_wind.values)\n",
    "\n",
    "\n",
    "# add solar PV generator\n",
    "df_solar = pd.read_csv('pv_optimal.csv', sep=';', index_col=0)\n",
    "df_solar.index = pd.to_datetime(df_solar.index)\n",
    "CF_solar = df_solar[country][[hour.strftime(\"%Y-%m-%dT%H:%M:%SZ\") for hour in network.snapshots]]\n",
    "capital_cost_solar = annuity(25,0.07)*425000*(1+0.03) # in €/MW\n",
    "network.add(\"Generator\",\n",
    "            \"solar\",\n",
    "            bus=\"electricity bus\",\n",
    "            p_nom_extendable=True,\n",
    "            carrier=\"solar\",\n",
    "            #p_nom_max=1000, # maximum capacity can be limited due to environmental constraints\n",
    "            capital_cost = capital_cost_solar,\n",
    "            marginal_cost = 0,\n",
    "            p_max_pu = CF_solar.values)\n",
    "\n",
    "# add OCGT (Open Cycle Gas Turbine) generator\n",
    "capital_cost_OCGT = annuity(25,0.07)*560000*(1+0.033) # in €/MW\n",
    "fuel_cost = 20.1 # in €/MWh_th\n",
    "efficiency = 0.39 # MWh_elec/MWh_th\n",
    "marginal_cost_OCGT = fuel_cost/efficiency # in €/MWh_el\n",
    "network.add(\"Generator\",\n",
    "            \"OCGT\",\n",
    "            bus=\"electricity bus\",\n",
    "            p_nom_extendable=True,\n",
    "            carrier=\"gas\",\n",
    "            #p_nom_max=1000,\n",
    "            capital_cost = capital_cost_OCGT,\n",
    "            marginal_cost = marginal_cost_OCGT)\n",
    "\n",
    "\n",
    "\n",
    "avg_CF_wind = CF_wind.mean()\n",
    "avg_CF_solar = CF_solar.mean()\n",
    "print(f\"Average Capacity Factor for Solar : {avg_CF_solar:.2%}\")\n",
    "print(f\"Average Capacity Factor for Onshore Wind: {avg_CF_wind:.2%}\")\n",
    "print(CF_wind)\n",
    "\n",
    "annual_mean_pv = df_solar[country].resample('YE').mean()\n",
    "annual_mean_pv.plot(kind='line', ylabel='Capacity Factor solar PV', color='orange')\n",
    "print('Average solar annual mean {:.2f}, \\nNormalized Standar deviation {:.2f} %'.format(annual_mean_pv.mean(),annual_mean_pv.std()/annual_mean_pv.mean()))\n",
    "\n",
    "annual_mean_wind = df_onshorewind[country].resample('YE').mean()\n",
    "annual_mean_wind.plot(kind='line', ylabel='Capacity Factor onshore wind')\n",
    "#print('Average wind annual mean {:.2f}, \\nNormalized Standar deviation {:.2f} %'.format(annual_mean_wind.mean(),annual_mean_wind.std()/annual_mean_wind.mean()))\n"
   ]
  },
  {
   "cell_type": "markdown",
   "metadata": {},
   "source": []
  },
  {
   "cell_type": "markdown",
   "metadata": {
    "id": "w0VEC7Rnlh-M"
   },
   "source": [
    "Print the generator Capacity factor time series to check that it has been properly added (you should see numbers and not 'NaN')"
   ]
  },
  {
   "cell_type": "code",
   "execution_count": 56,
   "metadata": {
    "ExecuteTime": {
     "end_time": "2025-03-07T13:59:34.704816Z",
     "start_time": "2025-03-07T13:59:34.694036Z"
    },
    "id": "2wrI9_Qilh-N",
    "outputId": "3f107f56-68b4-4954-f9e1-cd06b2e7a1aa"
   },
   "outputs": [
    {
     "data": {
      "text/html": [
       "<div>\n",
       "<style scoped>\n",
       "    .dataframe tbody tr th:only-of-type {\n",
       "        vertical-align: middle;\n",
       "    }\n",
       "\n",
       "    .dataframe tbody tr th {\n",
       "        vertical-align: top;\n",
       "    }\n",
       "\n",
       "    .dataframe thead th {\n",
       "        text-align: right;\n",
       "    }\n",
       "</style>\n",
       "<table border=\"1\" class=\"dataframe\">\n",
       "  <thead>\n",
       "    <tr style=\"text-align: right;\">\n",
       "      <th>Generator</th>\n",
       "      <th>onshorewind</th>\n",
       "      <th>solar</th>\n",
       "    </tr>\n",
       "    <tr>\n",
       "      <th>snapshot</th>\n",
       "      <th></th>\n",
       "      <th></th>\n",
       "    </tr>\n",
       "  </thead>\n",
       "  <tbody>\n",
       "    <tr>\n",
       "      <th>2017-01-01 00:00:00</th>\n",
       "      <td>0.350</td>\n",
       "      <td>0.0</td>\n",
       "    </tr>\n",
       "    <tr>\n",
       "      <th>2017-01-01 01:00:00</th>\n",
       "      <td>0.377</td>\n",
       "      <td>0.0</td>\n",
       "    </tr>\n",
       "    <tr>\n",
       "      <th>2017-01-01 02:00:00</th>\n",
       "      <td>0.385</td>\n",
       "      <td>0.0</td>\n",
       "    </tr>\n",
       "    <tr>\n",
       "      <th>2017-01-01 03:00:00</th>\n",
       "      <td>0.400</td>\n",
       "      <td>0.0</td>\n",
       "    </tr>\n",
       "    <tr>\n",
       "      <th>2017-01-01 04:00:00</th>\n",
       "      <td>0.406</td>\n",
       "      <td>0.0</td>\n",
       "    </tr>\n",
       "    <tr>\n",
       "      <th>...</th>\n",
       "      <td>...</td>\n",
       "      <td>...</td>\n",
       "    </tr>\n",
       "    <tr>\n",
       "      <th>2017-12-31 19:00:00</th>\n",
       "      <td>0.468</td>\n",
       "      <td>0.0</td>\n",
       "    </tr>\n",
       "    <tr>\n",
       "      <th>2017-12-31 20:00:00</th>\n",
       "      <td>0.595</td>\n",
       "      <td>0.0</td>\n",
       "    </tr>\n",
       "    <tr>\n",
       "      <th>2017-12-31 21:00:00</th>\n",
       "      <td>0.684</td>\n",
       "      <td>0.0</td>\n",
       "    </tr>\n",
       "    <tr>\n",
       "      <th>2017-12-31 22:00:00</th>\n",
       "      <td>0.762</td>\n",
       "      <td>0.0</td>\n",
       "    </tr>\n",
       "    <tr>\n",
       "      <th>2017-12-31 23:00:00</th>\n",
       "      <td>0.827</td>\n",
       "      <td>0.0</td>\n",
       "    </tr>\n",
       "  </tbody>\n",
       "</table>\n",
       "<p>8760 rows × 2 columns</p>\n",
       "</div>"
      ],
      "text/plain": [
       "Generator            onshorewind  solar\n",
       "snapshot                               \n",
       "2017-01-01 00:00:00        0.350    0.0\n",
       "2017-01-01 01:00:00        0.377    0.0\n",
       "2017-01-01 02:00:00        0.385    0.0\n",
       "2017-01-01 03:00:00        0.400    0.0\n",
       "2017-01-01 04:00:00        0.406    0.0\n",
       "...                          ...    ...\n",
       "2017-12-31 19:00:00        0.468    0.0\n",
       "2017-12-31 20:00:00        0.595    0.0\n",
       "2017-12-31 21:00:00        0.684    0.0\n",
       "2017-12-31 22:00:00        0.762    0.0\n",
       "2017-12-31 23:00:00        0.827    0.0\n",
       "\n",
       "[8760 rows x 2 columns]"
      ]
     },
     "execution_count": 56,
     "metadata": {},
     "output_type": "execute_result"
    }
   ],
   "source": [
    "network.generators_t.p_max_pu"
   ]
  },
  {
   "cell_type": "markdown",
   "metadata": {
    "id": "YJvZ8WiNlh-O"
   },
   "source": [
    "We find the optimal solution using Gurobi as solver.\n",
    "\n",
    "In this case, we are optimizing the installed capacity and dispatch of every generator to minimize the total system cost."
   ]
  },
  {
   "cell_type": "code",
   "execution_count": 57,
   "metadata": {
    "ExecuteTime": {
     "end_time": "2025-03-07T13:59:37.325030Z",
     "start_time": "2025-03-07T13:59:34.794538Z"
    },
    "id": "Ibj0SbQplh-O",
    "outputId": "d6af4f7f-336d-4d55-f0f6-b009db231107"
   },
   "outputs": [
    {
     "name": "stderr",
     "output_type": "stream",
     "text": [
      "WARNING:pypsa.consistency:The following buses have carriers which are not defined:\n",
      "Index(['electricity bus', 'electricity bus GERMANY',\n",
      "       'electricity bus BELGIUM'],\n",
      "      dtype='object', name='Bus')\n"
     ]
    },
    {
     "name": "stderr",
     "output_type": "stream",
     "text": [
      "WARNING:pypsa.consistency:The following links have carriers which are not defined:\n",
      "Index(['country - country2'], dtype='object', name='Link')\n",
      "WARNING:pypsa.consistency:The following buses have no attached components, which can break the lopf: {'electricity bus BELGIUM'}\n",
      "INFO:linopy.model: Solve problem using Highs solver\n",
      "INFO:linopy.io:Writing objective.\n",
      "Writing constraints.: 100%|\u001b[38;2;128;191;255m██████████\u001b[0m| 9/9 [00:01<00:00,  6.67it/s]\n",
      "Writing continuous variables.: 100%|\u001b[38;2;128;191;255m██████████\u001b[0m| 4/4 [00:00<00:00, 22.27it/s]\n",
      "INFO:linopy.io: Writing time: 1.7s\n",
      "INFO:linopy.constants: Optimization successful: \n",
      "Status: ok\n",
      "Termination condition: optimal\n",
      "Solution: 35044 primals, 87604 duals\n",
      "Objective: 6.24e+09\n",
      "Solver model: available\n",
      "Solver message: optimal\n",
      "\n",
      "INFO:pypsa.optimization.optimize:The shadow-prices of the constraints Generator-ext-p-lower, Generator-ext-p-upper, Link-ext-p-lower, Link-ext-p-upper were not assigned to the network.\n"
     ]
    },
    {
     "data": {
      "text/plain": [
       "('ok', 'optimal')"
      ]
     },
     "execution_count": 57,
     "metadata": {},
     "output_type": "execute_result"
    }
   ],
   "source": [
    "network.optimize()"
   ]
  },
  {
   "cell_type": "markdown",
   "metadata": {
    "id": "Hkzx4fkjlh-P"
   },
   "source": [
    "The message ('ok' , 'optimal\") indicates that the optimizer has found an optimal solution.\n",
    "\n",
    "The total cost can be read from the network objetive."
   ]
  },
  {
   "cell_type": "code",
   "execution_count": 58,
   "metadata": {
    "ExecuteTime": {
     "end_time": "2025-03-07T13:59:37.366823Z",
     "start_time": "2025-03-07T13:59:37.355152Z"
    },
    "id": "SLFyZH-Tlh-P",
    "outputId": "43bf601b-1034-4c2f-f5e5-82b8837fc5ca"
   },
   "outputs": [
    {
     "name": "stdout",
     "output_type": "stream",
     "text": [
      "6244.499429445184\n"
     ]
    }
   ],
   "source": [
    "print(network.objective/1000000) #in 10^6 €"
   ]
  },
  {
   "cell_type": "markdown",
   "metadata": {
    "id": "mZyD9mRYlh-Q"
   },
   "source": [
    "The cost per MWh of electricity produced can also be calculated."
   ]
  },
  {
   "cell_type": "code",
   "execution_count": 59,
   "metadata": {
    "ExecuteTime": {
     "end_time": "2025-03-07T13:59:37.424269Z",
     "start_time": "2025-03-07T13:59:37.414481Z"
    },
    "id": "oq970foLlh-R",
    "outputId": "794a0680-1c6b-4a41-9165-77e3898b136b"
   },
   "outputs": [
    {
     "name": "stdout",
     "output_type": "stream",
     "text": [
      "Load\n",
      "load    55.139128\n",
      "dtype: float64\n"
     ]
    }
   ],
   "source": [
    "print(network.objective/network.loads_t.p.sum()) # EUR/MWh"
   ]
  },
  {
   "cell_type": "markdown",
   "metadata": {
    "id": "n4zrHT7Elh-S"
   },
   "source": [
    "The optimal capacity for every generator can be shown."
   ]
  },
  {
   "cell_type": "code",
   "execution_count": 60,
   "metadata": {
    "ExecuteTime": {
     "end_time": "2025-03-07T13:59:37.489946Z",
     "start_time": "2025-03-07T13:59:37.482242Z"
    },
    "id": "nIsovYgRlh-S",
    "outputId": "c4632c54-2583-4d5b-a9da-80a6521efbdb"
   },
   "outputs": [
    {
     "data": {
      "text/plain": [
       "Generator\n",
       "onshorewind    18163.299663\n",
       "solar          17816.183687\n",
       "OCGT           17460.040404\n",
       "Name: p_nom_opt, dtype: float64"
      ]
     },
     "execution_count": 60,
     "metadata": {},
     "output_type": "execute_result"
    }
   ],
   "source": [
    "network.generators.p_nom_opt # in MW"
   ]
  },
  {
   "cell_type": "markdown",
   "metadata": {
    "id": "vdgNfoYelh-T"
   },
   "source": [
    "We can plot now the dispatch of every generator during the first week of the year and the electricity demand.\n",
    "We import the matplotlib package which is very useful to plot results.\n",
    "\n",
    "We can also plot the electricity mix."
   ]
  },
  {
   "cell_type": "code",
   "execution_count": 61,
   "metadata": {
    "ExecuteTime": {
     "end_time": "2025-03-07T13:59:37.784301Z",
     "start_time": "2025-03-07T13:59:37.562807Z"
    },
    "id": "ykyhFIzzlh-U",
    "outputId": "4f0717ca-f968-4405-c707-0f55a0d97175"
   },
   "outputs": [
    {
     "data": {
      "text/plain": [
       "<matplotlib.legend.Legend at 0x214dcb6eb40>"
      ]
     },
     "execution_count": 61,
     "metadata": {},
     "output_type": "execute_result"
    },
    {
     "data": {
      "image/png": "[encoded data removed]",
      "text/plain": [
       "<Figure size 640x480 with 1 Axes>"
      ]
     },
     "metadata": {},
     "output_type": "display_data"
    }
   ],
   "source": [
    "import matplotlib.pyplot as plt\n",
    "\n",
    "plt.plot(network.loads_t.p['load'][0:96], color='black', label='demand')\n",
    "plt.plot(network.generators_t.p['onshorewind'][0:96], color='blue', label='onshore wind')\n",
    "plt.plot(network.generators_t.p['solar'][0:96], color='orange', label='solar')\n",
    "plt.plot(network.generators_t.p['OCGT'][0:96], color='brown', label='gas (OCGT)')\n",
    "plt.legend(fancybox=True, shadow=True, loc='best')"
   ]
  },
  {
   "cell_type": "code",
   "execution_count": 62,
   "metadata": {
    "ExecuteTime": {
     "end_time": "2025-03-07T13:59:37.884764Z",
     "start_time": "2025-03-07T13:59:37.819229Z"
    },
    "id": "bHDt1K65lh-V",
    "outputId": "3841ada1-21bb-4253-d17e-31c80a641809"
   },
   "outputs": [
    {
     "data": {
      "text/plain": [
       "Text(0.5, 1.07, 'Electricity mix')"
      ]
     },
     "execution_count": 62,
     "metadata": {},
     "output_type": "execute_result"
    },
    {
     "data": {
      "image/png": "[encoded data removed]",
      "text/plain": [
       "<Figure size 640x480 with 1 Axes>"
      ]
     },
     "metadata": {},
     "output_type": "display_data"
    }
   ],
   "source": [
    "labels = ['onshore wind',\n",
    "          'solar',\n",
    "          'gas (OCGT)']\n",
    "sizes = [network.generators_t.p['onshorewind'].sum(),\n",
    "         network.generators_t.p['solar'].sum(),\n",
    "         network.generators_t.p['OCGT'].sum()]\n",
    "\n",
    "colors=['blue', 'orange', 'brown']\n",
    "\n",
    "plt.pie(sizes,\n",
    "        colors=colors,\n",
    "        labels=labels,\n",
    "        wedgeprops={'linewidth':0})\n",
    "plt.axis('equal')\n",
    "\n",
    "plt.title('Electricity mix', y=1.07)"
   ]
  },
  {
   "cell_type": "code",
   "execution_count": 63,
   "metadata": {
    "ExecuteTime": {
     "end_time": "2025-03-07T13:59:38.790147Z",
     "start_time": "2025-03-07T13:59:37.908864Z"
    }
   },
   "outputs": [
    {
     "name": "stderr",
     "output_type": "stream",
     "text": [
      "c:\\Users\\const\\anaconda\\Lib\\site-packages\\executing\\executing.py:713: DeprecationWarning:\n",
      "\n",
      "ast.Str is deprecated and will be removed in Python 3.14; use ast.Constant instead\n",
      "\n",
      "c:\\Users\\const\\anaconda\\Lib\\ast.py:587: DeprecationWarning:\n",
      "\n",
      "Attribute s is deprecated and will be removed in Python 3.14; use value instead\n",
      "\n",
      "c:\\Users\\const\\anaconda\\Lib\\site-packages\\executing\\executing.py:713: DeprecationWarning:\n",
      "\n",
      "ast.Str is deprecated and will be removed in Python 3.14; use ast.Constant instead\n",
      "\n",
      "c:\\Users\\const\\anaconda\\Lib\\ast.py:587: DeprecationWarning:\n",
      "\n",
      "Attribute s is deprecated and will be removed in Python 3.14; use value instead\n",
      "\n"
     ]
    },
    {
     "ename": "KeyError",
     "evalue": "\"None of [DatetimeIndex(['2005-07-01 00:00:00', '2005-07-01 01:00:00',\\n               '2005-07-01 02:00:00', '2005-07-01 03:00:00',\\n               '2005-07-01 04:00:00', '2005-07-01 05:00:00',\\n               '2005-07-01 06:00:00', '2005-07-01 07:00:00',\\n               '2005-07-01 08:00:00', '2005-07-01 09:00:00',\\n               ...\\n               '2005-07-07 14:00:00', '2005-07-07 15:00:00',\\n               '2005-07-07 16:00:00', '2005-07-07 17:00:00',\\n               '2005-07-07 18:00:00', '2005-07-07 19:00:00',\\n               '2005-07-07 20:00:00', '2005-07-07 21:00:00',\\n               '2005-07-07 22:00:00', '2005-07-07 23:00:00'],\\n              dtype='datetime64[ns]', length=168, freq='h')] are in the [index]\"",
     "output_type": "error",
     "traceback": [
      "\u001b[1;31m---------------------------------------------------------------------------\u001b[0m",
      "\u001b[1;31mKeyError\u001b[0m                                  Traceback (most recent call last)",
      "Cell \u001b[1;32mIn[63], line 6\u001b[0m\n\u001b[0;32m      3\u001b[0m winter_week \u001b[38;5;241m=\u001b[39m pd\u001b[38;5;241m.\u001b[39mdate_range(\u001b[38;5;124m\"\u001b[39m\u001b[38;5;124m2005-01-01\u001b[39m\u001b[38;5;124m\"\u001b[39m, periods\u001b[38;5;241m=\u001b[39m\u001b[38;5;241m168\u001b[39m, freq\u001b[38;5;241m=\u001b[39m\u001b[38;5;124m\"\u001b[39m\u001b[38;5;124mh\u001b[39m\u001b[38;5;124m\"\u001b[39m)\n\u001b[0;32m      5\u001b[0m \u001b[38;5;66;03m# Extract generation data for summer and winter weeks\u001b[39;00m\n\u001b[1;32m----> 6\u001b[0m dispatch_summer \u001b[38;5;241m=\u001b[39m network\u001b[38;5;241m.\u001b[39mgenerators_t\u001b[38;5;241m.\u001b[39mp\u001b[38;5;241m.\u001b[39mloc[summer_week]\n\u001b[0;32m      7\u001b[0m dispatch_winter \u001b[38;5;241m=\u001b[39m network\u001b[38;5;241m.\u001b[39mgenerators_t\u001b[38;5;241m.\u001b[39mp\u001b[38;5;241m.\u001b[39mloc[winter_week]\n\u001b[0;32m      9\u001b[0m \u001b[38;5;66;03m# Plot summer dispatch\u001b[39;00m\n",
      "File \u001b[1;32mc:\\Users\\const\\anaconda\\Lib\\site-packages\\pandas\\core\\indexing.py:1191\u001b[0m, in \u001b[0;36m_LocationIndexer.__getitem__\u001b[1;34m(self, key)\u001b[0m\n\u001b[0;32m   1189\u001b[0m maybe_callable \u001b[38;5;241m=\u001b[39m com\u001b[38;5;241m.\u001b[39mapply_if_callable(key, \u001b[38;5;28mself\u001b[39m\u001b[38;5;241m.\u001b[39mobj)\n\u001b[0;32m   1190\u001b[0m maybe_callable \u001b[38;5;241m=\u001b[39m \u001b[38;5;28mself\u001b[39m\u001b[38;5;241m.\u001b[39m_check_deprecated_callable_usage(key, maybe_callable)\n\u001b[1;32m-> 1191\u001b[0m \u001b[38;5;28;01mreturn\u001b[39;00m \u001b[38;5;28mself\u001b[39m\u001b[38;5;241m.\u001b[39m_getitem_axis(maybe_callable, axis\u001b[38;5;241m=\u001b[39maxis)\n",
      "File \u001b[1;32mc:\\Users\\const\\anaconda\\Lib\\site-packages\\pandas\\core\\indexing.py:1420\u001b[0m, in \u001b[0;36m_LocIndexer._getitem_axis\u001b[1;34m(self, key, axis)\u001b[0m\n\u001b[0;32m   1417\u001b[0m     \u001b[38;5;28;01mif\u001b[39;00m \u001b[38;5;28mhasattr\u001b[39m(key, \u001b[38;5;124m\"\u001b[39m\u001b[38;5;124mndim\u001b[39m\u001b[38;5;124m\"\u001b[39m) \u001b[38;5;129;01mand\u001b[39;00m key\u001b[38;5;241m.\u001b[39mndim \u001b[38;5;241m>\u001b[39m \u001b[38;5;241m1\u001b[39m:\n\u001b[0;32m   1418\u001b[0m         \u001b[38;5;28;01mraise\u001b[39;00m \u001b[38;5;167;01mValueError\u001b[39;00m(\u001b[38;5;124m\"\u001b[39m\u001b[38;5;124mCannot index with multidimensional key\u001b[39m\u001b[38;5;124m\"\u001b[39m)\n\u001b[1;32m-> 1420\u001b[0m     \u001b[38;5;28;01mreturn\u001b[39;00m \u001b[38;5;28mself\u001b[39m\u001b[38;5;241m.\u001b[39m_getitem_iterable(key, axis\u001b[38;5;241m=\u001b[39maxis)\n\u001b[0;32m   1422\u001b[0m \u001b[38;5;66;03m# nested tuple slicing\u001b[39;00m\n\u001b[0;32m   1423\u001b[0m \u001b[38;5;28;01mif\u001b[39;00m is_nested_tuple(key, labels):\n",
      "File \u001b[1;32mc:\\Users\\const\\anaconda\\Lib\\site-packages\\pandas\\core\\indexing.py:1360\u001b[0m, in \u001b[0;36m_LocIndexer._getitem_iterable\u001b[1;34m(self, key, axis)\u001b[0m\n\u001b[0;32m   1357\u001b[0m \u001b[38;5;28mself\u001b[39m\u001b[38;5;241m.\u001b[39m_validate_key(key, axis)\n\u001b[0;32m   1359\u001b[0m \u001b[38;5;66;03m# A collection of keys\u001b[39;00m\n\u001b[1;32m-> 1360\u001b[0m keyarr, indexer \u001b[38;5;241m=\u001b[39m \u001b[38;5;28mself\u001b[39m\u001b[38;5;241m.\u001b[39m_get_listlike_indexer(key, axis)\n\u001b[0;32m   1361\u001b[0m \u001b[38;5;28;01mreturn\u001b[39;00m \u001b[38;5;28mself\u001b[39m\u001b[38;5;241m.\u001b[39mobj\u001b[38;5;241m.\u001b[39m_reindex_with_indexers(\n\u001b[0;32m   1362\u001b[0m     {axis: [keyarr, indexer]}, copy\u001b[38;5;241m=\u001b[39m\u001b[38;5;28;01mTrue\u001b[39;00m, allow_dups\u001b[38;5;241m=\u001b[39m\u001b[38;5;28;01mTrue\u001b[39;00m\n\u001b[0;32m   1363\u001b[0m )\n",
      "File \u001b[1;32mc:\\Users\\const\\anaconda\\Lib\\site-packages\\pandas\\core\\indexing.py:1558\u001b[0m, in \u001b[0;36m_LocIndexer._get_listlike_indexer\u001b[1;34m(self, key, axis)\u001b[0m\n\u001b[0;32m   1555\u001b[0m ax \u001b[38;5;241m=\u001b[39m \u001b[38;5;28mself\u001b[39m\u001b[38;5;241m.\u001b[39mobj\u001b[38;5;241m.\u001b[39m_get_axis(axis)\n\u001b[0;32m   1556\u001b[0m axis_name \u001b[38;5;241m=\u001b[39m \u001b[38;5;28mself\u001b[39m\u001b[38;5;241m.\u001b[39mobj\u001b[38;5;241m.\u001b[39m_get_axis_name(axis)\n\u001b[1;32m-> 1558\u001b[0m keyarr, indexer \u001b[38;5;241m=\u001b[39m ax\u001b[38;5;241m.\u001b[39m_get_indexer_strict(key, axis_name)\n\u001b[0;32m   1560\u001b[0m \u001b[38;5;28;01mreturn\u001b[39;00m keyarr, indexer\n",
      "File \u001b[1;32mc:\\Users\\const\\anaconda\\Lib\\site-packages\\pandas\\core\\indexes\\base.py:6200\u001b[0m, in \u001b[0;36mIndex._get_indexer_strict\u001b[1;34m(self, key, axis_name)\u001b[0m\n\u001b[0;32m   6197\u001b[0m \u001b[38;5;28;01melse\u001b[39;00m:\n\u001b[0;32m   6198\u001b[0m     keyarr, indexer, new_indexer \u001b[38;5;241m=\u001b[39m \u001b[38;5;28mself\u001b[39m\u001b[38;5;241m.\u001b[39m_reindex_non_unique(keyarr)\n\u001b[1;32m-> 6200\u001b[0m \u001b[38;5;28mself\u001b[39m\u001b[38;5;241m.\u001b[39m_raise_if_missing(keyarr, indexer, axis_name)\n\u001b[0;32m   6202\u001b[0m keyarr \u001b[38;5;241m=\u001b[39m \u001b[38;5;28mself\u001b[39m\u001b[38;5;241m.\u001b[39mtake(indexer)\n\u001b[0;32m   6203\u001b[0m \u001b[38;5;28;01mif\u001b[39;00m \u001b[38;5;28misinstance\u001b[39m(key, Index):\n\u001b[0;32m   6204\u001b[0m     \u001b[38;5;66;03m# GH 42790 - Preserve name from an Index\u001b[39;00m\n",
      "File \u001b[1;32mc:\\Users\\const\\anaconda\\Lib\\site-packages\\pandas\\core\\indexes\\base.py:6249\u001b[0m, in \u001b[0;36mIndex._raise_if_missing\u001b[1;34m(self, key, indexer, axis_name)\u001b[0m\n\u001b[0;32m   6247\u001b[0m \u001b[38;5;28;01mif\u001b[39;00m nmissing:\n\u001b[0;32m   6248\u001b[0m     \u001b[38;5;28;01mif\u001b[39;00m nmissing \u001b[38;5;241m==\u001b[39m \u001b[38;5;28mlen\u001b[39m(indexer):\n\u001b[1;32m-> 6249\u001b[0m         \u001b[38;5;28;01mraise\u001b[39;00m \u001b[38;5;167;01mKeyError\u001b[39;00m(\u001b[38;5;124mf\u001b[39m\u001b[38;5;124m\"\u001b[39m\u001b[38;5;124mNone of [\u001b[39m\u001b[38;5;132;01m{\u001b[39;00mkey\u001b[38;5;132;01m}\u001b[39;00m\u001b[38;5;124m] are in the [\u001b[39m\u001b[38;5;132;01m{\u001b[39;00maxis_name\u001b[38;5;132;01m}\u001b[39;00m\u001b[38;5;124m]\u001b[39m\u001b[38;5;124m\"\u001b[39m)\n\u001b[0;32m   6251\u001b[0m     not_found \u001b[38;5;241m=\u001b[39m \u001b[38;5;28mlist\u001b[39m(ensure_index(key)[missing_mask\u001b[38;5;241m.\u001b[39mnonzero()[\u001b[38;5;241m0\u001b[39m]]\u001b[38;5;241m.\u001b[39munique())\n\u001b[0;32m   6252\u001b[0m     \u001b[38;5;28;01mraise\u001b[39;00m \u001b[38;5;167;01mKeyError\u001b[39;00m(\u001b[38;5;124mf\u001b[39m\u001b[38;5;124m\"\u001b[39m\u001b[38;5;132;01m{\u001b[39;00mnot_found\u001b[38;5;132;01m}\u001b[39;00m\u001b[38;5;124m not in index\u001b[39m\u001b[38;5;124m\"\u001b[39m)\n",
      "\u001b[1;31mKeyError\u001b[0m: \"None of [DatetimeIndex(['2005-07-01 00:00:00', '2005-07-01 01:00:00',\\n               '2005-07-01 02:00:00', '2005-07-01 03:00:00',\\n               '2005-07-01 04:00:00', '2005-07-01 05:00:00',\\n               '2005-07-01 06:00:00', '2005-07-01 07:00:00',\\n               '2005-07-01 08:00:00', '2005-07-01 09:00:00',\\n               ...\\n               '2005-07-07 14:00:00', '2005-07-07 15:00:00',\\n               '2005-07-07 16:00:00', '2005-07-07 17:00:00',\\n               '2005-07-07 18:00:00', '2005-07-07 19:00:00',\\n               '2005-07-07 20:00:00', '2005-07-07 21:00:00',\\n               '2005-07-07 22:00:00', '2005-07-07 23:00:00'],\\n              dtype='datetime64[ns]', length=168, freq='h')] are in the [index]\""
     ]
    }
   ],
   "source": [
    "\n",
    "# Define time ranges for summer and winter (assuming hourly data for a full year)\n",
    "summer_week = pd.date_range(\"2005-07-01\", periods=168, freq=\"h\")\n",
    "winter_week = pd.date_range(\"2005-01-01\", periods=168, freq=\"h\")\n",
    "\n",
    "# Extract generation data for summer and winter weeks\n",
    "dispatch_summer = network.generators_t.p.loc[summer_week]\n",
    "dispatch_winter = network.generators_t.p.loc[winter_week]\n",
    "\n",
    "# Plot summer dispatch\n",
    "plt.figure(figsize=(12, 5))\n",
    "plt.stackplot(dispatch_summer.index,\n",
    "              dispatch_summer[\"onshorewind\"],\n",
    "              dispatch_summer[\"solar\"],\n",
    "              dispatch_summer[\"OCGT\"],\n",
    "              labels=[\"Onshore Wind\", \"Solar\", \"Gas (OCGT)\"],\n",
    "              colors=[\"blue\", \"orange\", \"brown\"], alpha=0.7)\n",
    "plt.plot(network.loads_t.p.loc[summer_week, 'load'], color='black', linestyle='-', linewidth=2, label='Demand')\n",
    "plt.title(\"Energy Dispatch - Summer Week\")\n",
    "plt.xlabel(\"Date\")\n",
    "plt.ylabel(\"Power (MW)\")\n",
    "plt.legend(loc=\"upper left\")\n",
    "plt.grid(True)\n",
    "plt.xticks(rotation=45)\n",
    "plt.tight_layout()\n",
    "plt.show()\n",
    "\n",
    "# Plot winter dispatch\n",
    "plt.figure(figsize=(12, 5))\n",
    "plt.stackplot(dispatch_winter.index,\n",
    "              dispatch_winter[\"onshorewind\"],\n",
    "              dispatch_winter[\"solar\"],\n",
    "              dispatch_winter[\"OCGT\"],\n",
    "              labels=[\"Onshore Wind\", \"Solar\", \"Gas (OCGT)\"],\n",
    "              colors=[\"blue\", \"orange\", \"brown\"], alpha=0.7)\n",
    "plt.plot(network.loads_t.p.loc[winter_week, 'load'], color='black', linestyle='-', linewidth=2, label='Demand')\n",
    "plt.title(\"Energy Dispatch - Winter Week\")\n",
    "plt.xlabel(\"Date\")\n",
    "plt.ylabel(\"Power (MW)\")\n",
    "plt.legend(loc=\"upper left\")\n",
    "plt.grid(True)\n",
    "plt.xticks(rotation=45)\n",
    "plt.tight_layout()\n",
    "plt.show()\n"
   ]
  },
  {
   "cell_type": "markdown",
   "metadata": {
    "id": "GWG3GAgWlh-V"
   },
   "source": [
    "We can add a global CO2 constraint and solve again."
   ]
  },
  {
   "cell_type": "code",
   "execution_count": null,
   "metadata": {
    "ExecuteTime": {
     "end_time": "2025-03-07T13:59:41.269012Z",
     "start_time": "2025-03-07T13:59:38.849258Z"
    },
    "id": "6UWANALtlh-W"
   },
   "outputs": [
    {
     "name": "stderr",
     "output_type": "stream",
     "text": [
      "WARNING:pypsa.consistency:The following buses have carriers which are not defined:\n",
      "Index(['electricity bus'], dtype='object', name='Bus')\n",
      "INFO:linopy.model: Solve problem using Highs solver\n",
      "INFO:linopy.io:Writing objective.\n",
      "Writing constraints.: 100%|\u001b[38;2;128;191;255m██████████\u001b[0m| 6/6 [00:00<00:00,  7.18it/s]\n",
      "Writing continuous variables.: 100%|\u001b[38;2;128;191;255m██████████\u001b[0m| 2/2 [00:00<00:00, 13.64it/s]\n",
      "INFO:linopy.io: Writing time: 1.05s\n",
      "INFO:linopy.constants: Optimization successful: \n",
      "Status: ok\n",
      "Termination condition: optimal\n",
      "Solution: 26283 primals, 61324 duals\n",
      "Objective: 2.44e+10\n",
      "Solver model: available\n",
      "Solver message: optimal\n",
      "\n",
      "INFO:pypsa.optimization.optimize:The shadow-prices of the constraints Generator-ext-p-lower, Generator-ext-p-upper were not assigned to the network.\n"
     ]
    },
    {
     "data": {
      "text/plain": [
       "('ok', 'optimal')"
      ]
     },
     "execution_count": 223,
     "metadata": {},
     "output_type": "execute_result"
    }
   ],
   "source": [
    "co2_limit=1000000 #tonCO2\n",
    "#look at the emissions the netherlands emitted in 2015, and put a cap\n",
    "network.add(\"GlobalConstraint\",\n",
    "            \"co2_limit\",\n",
    "            type=\"primary_energy\",\n",
    "            carrier_attribute=\"co2_emissions\",\n",
    "            sense=\"<=\",\n",
    "            constant=co2_limit)\n",
    "network.optimize()"
   ]
  },
  {
   "cell_type": "code",
   "execution_count": null,
   "metadata": {
    "ExecuteTime": {
     "end_time": "2025-03-07T13:59:41.304514Z",
     "start_time": "2025-03-07T13:59:41.294186Z"
    },
    "id": "8_oJlpGdlh-W",
    "outputId": "3420bfa2-7528-4fa6-8b96-2df0343fab5d"
   },
   "outputs": [
    {
     "data": {
      "text/plain": [
       "Generator\n",
       "onshorewind    273144.976572\n",
       "solar           71064.043179\n",
       "OCGT            14954.550234\n",
       "Name: p_nom_opt, dtype: float64"
      ]
     },
     "execution_count": 224,
     "metadata": {},
     "output_type": "execute_result"
    }
   ],
   "source": [
    "network.generators.p_nom_opt #in MW"
   ]
  },
  {
   "cell_type": "code",
   "execution_count": null,
   "metadata": {
    "ExecuteTime": {
     "end_time": "2025-03-07T13:59:41.600571Z",
     "start_time": "2025-03-07T13:59:41.396782Z"
    },
    "id": "HkKD7FnAlh-X",
    "outputId": "a4001478-76b3-4de9-d59f-cc04fd82be68"
   },
   "outputs": [
    {
     "data": {
      "text/plain": [
       "<matplotlib.legend.Legend at 0x1c985bfb140>"
      ]
     },
     "execution_count": 225,
     "metadata": {},
     "output_type": "execute_result"
    },
    {
     "data": {
      "image/png": "[encoded data removed]",
      "text/plain": [
       "<Figure size 640x480 with 1 Axes>"
      ]
     },
     "metadata": {},
     "output_type": "display_data"
    }
   ],
   "source": [
    "plt.plot(network.loads_t.p['load'][0:96], color='black', label='demand')\n",
    "plt.plot(network.generators_t.p['onshorewind'][0:96], color='blue', label='onshore wind')\n",
    "plt.plot(network.generators_t.p['solar'][0:96], color='orange', label='solar')\n",
    "plt.plot(network.generators_t.p['OCGT'][0:96], color='brown', label='gas (OCGT)')\n",
    "plt.legend(fancybox=True, shadow=True, loc='best')"
   ]
  },
  {
   "cell_type": "code",
   "execution_count": null,
   "metadata": {
    "ExecuteTime": {
     "end_time": "2025-03-07T13:59:41.762038Z",
     "start_time": "2025-03-07T13:59:41.657370Z"
    },
    "id": "5DNfcgS7lh-X",
    "outputId": "9e77e31b-3559-4739-a461-1868b5887401"
   },
   "outputs": [
    {
     "data": {
      "text/plain": [
       "Text(0.5, 1.07, 'Electricity mix')"
      ]
     },
     "execution_count": 226,
     "metadata": {},
     "output_type": "execute_result"
    },
    {
     "data": {
      "image/png": "[encoded data removed]",
      "text/plain": [
       "<Figure size 640x480 with 1 Axes>"
      ]
     },
     "metadata": {},
     "output_type": "display_data"
    }
   ],
   "source": [
    "labels = ['onshore wind', 'solar', 'gas (OCGT)' ]\n",
    "sizes = [network.generators_t.p['onshorewind'].sum(),\n",
    "         network.generators_t.p['solar'].sum(),\n",
    "         network.generators_t.p['OCGT'].sum()]\n",
    "\n",
    "colors = ['blue', 'orange', 'brown']\n",
    "\n",
    "plt.pie(sizes,\n",
    "        colors=colors,\n",
    "        labels=labels,\n",
    "        wedgeprops={'linewidth':0})\n",
    "plt.axis('equal')\n",
    "\n",
    "plt.title('Electricity mix', y=1.07)"
   ]
  },
  {
   "cell_type": "markdown",
   "metadata": {
    "id": "2WGDHflklh-Y"
   },
   "source": [
    "# PROJECT INSTRUCTIONS\n",
    "\n",
    "\n",
    "Based on the previous example, you are asked to carry out the following tasks:\n",
    "\n",
    "A. Choose a different country/region/city/system and calculate the optimal capacities for renewable and non-renewable generators. You can add as many technologies as you want. Remember to provide a reference for the cost assumptions. Plot the dispatch time series for a week in summer and winter. Plot the annual electricity mix. Use the duration curves or the capacity factor to investigate the contribution of different technologies.\n",
    "\n",
    "B. Investigate how sensitive the optimum capacity mix is to the global CO2 constraint. E.g., plot the generation mix as a function of the CO2 constraint that you impose. Search for the CO2 emissions in your country (today or in 1990) and refer to the emissions allowance to that historical data.\n",
    "\n",
    "C. Investigate how sensitive your results are to the interannual variability of solar and wind generation. Plot the average capacity and variability obtained for every generator using different weather years.\n",
    "\n",
    "D. Add some storage technology/ies and investigate how they behave and what their impact is on the optimal system configuration. Discuss what strategies is your system using to balance the renewable generation at different time scales (intraday, seasonal, etc.)\n",
    "\n",
    "E. Select one target for decarbonization (i.e., one CO2 allowance limit). What is the CO2 price required to achieve that decarbonization level? Search for information on the existing CO2 tax in your country (if any) and discuss your results.\n",
    "\n",
    "F. Connect your country with, at least, two neighbouring countries. You can connect them using HVAC lines, HVDC links or gas pipelines. Use a linear representation of power flow or gas flow. \n",
    "You can assume that the generation capacities in the neighbouring countries are fixed or optimize the whole system. You can also include fixed interconnection capacities or optimize them with the generators' capacities. Discuss your results.\n",
    "\n",
    "G. Connect the electricity sector with, at least, another sector( e.g. heating or transport), and co-optimize all the sectors. Discuss your results.\n",
    "\n",
    "H. Finally, select one topic that is under discussion in your region. Design and implement some experiment to obtain relevant information regarding that topic. E.g.\n",
    "\n",
    "- What are the consequences if Denmark decides not to install more onshore wind?\n",
    "\n",
    "- Would it be more expensive if France decides to close its nuclear power plants?\n",
    "\n",
    "- What will be the main impacts of the Viking link?\n",
    "\n",
    "- How does gas scarcity impact the optimal system configuration?\n",
    "\n",
    "**Write a short report (maximum length 10 pages) in groups of 4 students including your main findings.**"
   ]
  },
  {
   "cell_type": "markdown",
   "metadata": {
    "id": "aBCHuFcqlh-Z"
   },
   "source": [
    "# Hints"
   ]
  },
  {
   "cell_type": "markdown",
   "metadata": {
    "id": "o6CslGgLlh-Z"
   },
   "source": [
    "_HINT 1: You can add a link with the following code_\n",
    "\n",
    "The efficiency will be 1 if you are connecting two countries and different from one if, for example, you are connecting the electricity bus to the heating bus using a heat pump.\n",
    "Setting p_min_pu=-1 makes the link reversible.\n"
   ]
  },
  {
   "cell_type": "code",
   "execution_count": null,
   "metadata": {
    "ExecuteTime": {
     "end_time": "2025-03-07T13:59:41.802682Z",
     "start_time": "2025-03-07T13:59:41.776587Z"
    },
    "id": "dacbdHP5lh-a",
    "outputId": "9aebeeb8-31dc-4abb-aab7-a20f89b07525"
   },
   "outputs": [
    {
     "name": "stderr",
     "output_type": "stream",
     "text": [
      "WARNING:pypsa.io:The following Link have buses which are not defined:\n",
      "Index(['country a - country b'], dtype='object')\n",
      "WARNING:pypsa.io:The following Link have buses which are not defined:\n",
      "Index(['country a - country b'], dtype='object')\n"
     ]
    },
    {
     "data": {
      "text/plain": [
       "Index(['country a - country b'], dtype='object')"
      ]
     },
     "execution_count": 227,
     "metadata": {},
     "output_type": "execute_result"
    }
   ],
   "source": [
    "network.add(\"Link\",\n",
    "             'country a - country b',\n",
    "             bus0=\"electricity bus country a\",\n",
    "             bus1=\"electricity bus country b\",\n",
    "             p_nom_extendable=True, # capacity is optimised\n",
    "             p_min_pu=-1,\n",
    "             length=600, # length (in km) between country a and country b\n",
    "             capital_cost=400*600) # capital cost * length"
   ]
  },
  {
   "cell_type": "markdown",
   "metadata": {
    "id": "PO1tqlyAlh-b"
   },
   "source": [
    "_HINT 2: You can check the KKT multiplier associated with the constraint with the following code_"
   ]
  },
  {
   "cell_type": "code",
   "execution_count": null,
   "metadata": {
    "ExecuteTime": {
     "end_time": "2025-03-07T13:59:41.850247Z",
     "start_time": "2025-03-07T13:59:41.844890Z"
    },
    "id": "OZ_MbDP3lh-b",
    "outputId": "db8ce0d1-d76b-4d83-cd2d-613b0ef9f1b7"
   },
   "outputs": [
    {
     "name": "stdout",
     "output_type": "stream",
     "text": [
      "GlobalConstraint\n",
      "co2_limit    1000000.0\n",
      "Name: constant, dtype: float64\n",
      "GlobalConstraint\n",
      "co2_limit   -14938.515958\n",
      "Name: mu, dtype: float64\n"
     ]
    }
   ],
   "source": [
    "print(network.global_constraints.constant) # CO2 limit (constant in the constraint)\n",
    "print(network.global_constraints.mu) # CO2 price (Lagrance multiplier in the constraint)"
   ]
  },
  {
   "cell_type": "markdown",
   "metadata": {
    "id": "OcVr88xrlh-c"
   },
   "source": [
    "_HINT 3: You can add a H2 store connected to the electricity bus via an electrolyzer and a fuel cell with the following code_"
   ]
  },
  {
   "cell_type": "code",
   "execution_count": null,
   "metadata": {
    "ExecuteTime": {
     "end_time": "2025-03-07T13:59:41.968861Z",
     "start_time": "2025-03-07T13:59:41.920921Z"
    },
    "id": "klremPFWlh-c"
   },
   "outputs": [
    {
     "data": {
      "text/plain": [
       "Index(['H2 Fuel Cell'], dtype='object')"
      ]
     },
     "execution_count": 229,
     "metadata": {},
     "output_type": "execute_result"
    }
   ],
   "source": [
    "#Create a new carrier\n",
    "network.add(\"Carrier\",\n",
    "              \"H2\")\n",
    "\n",
    "#Create a new bus\n",
    "network.add(\"Bus\",\n",
    "          \"H2\",\n",
    "          carrier = \"H2\")\n",
    "\n",
    "#Connect the store to the bus\n",
    "network.add(\"Store\",\n",
    "          \"H2 Tank\",\n",
    "          bus = \"H2\",\n",
    "          e_nom_extendable = True,\n",
    "          e_cyclic = True,\n",
    "          capital_cost = annuity(25, 0.07)*57000*(1+0.011))\n",
    "\n",
    "#Add the link \"H2 Electrolysis\" that transport energy from the electricity bus (bus0) to the H2 bus (bus1)\n",
    "#with 80% efficiency\n",
    "network.add(\"Link\",\n",
    "          \"H2 Electrolysis\",\n",
    "          bus0 = \"electricity bus\",\n",
    "          bus1 = \"H2\",\n",
    "          p_nom_extendable = True,\n",
    "          efficiency = 0.8,\n",
    "          capital_cost = annuity(25, 0.07)*600000*(1+0.05))\n",
    "\n",
    "#Add the link \"H2 Fuel Cell\" that transports energy from the H2 bus (bus0) to the electricity bus (bus1)\n",
    "#with 58% efficiency\n",
    "network.add(\"Link\",\n",
    "          \"H2 Fuel Cell\",\n",
    "          bus0 = \"H2\",\n",
    "          bus1 = \"electricity bus\",\n",
    "          p_nom_extendable = True,\n",
    "          efficiency = 0.58,\n",
    "          capital_cost = annuity(10, 0.07)*1300000*(1+0.05))\n"
   ]
  },
  {
   "cell_type": "markdown",
   "metadata": {},
   "source": [
    "_HINT 4: You can get inspiration for plotting the flows in the network in the following example_\n",
    "\n",
    "https://pypsa.readthedocs.io/en/latest/examples/flow-plot.html"
   ]
  },
  {
   "cell_type": "code",
   "execution_count": null,
   "metadata": {
    "ExecuteTime": {
     "end_time": "2025-03-07T13:59:41.977399Z",
     "start_time": "2025-03-07T13:59:41.974401Z"
    }
   },
   "outputs": [],
   "source": []
  }
 ],
 "metadata": {
  "colab": {
   "provenance": []
  },
  "kernelspec": {
   "display_name": "base",
   "language": "python",
   "name": "python3"
  },
  "language_info": {
   "codemirror_mode": {
    "name": "ipython",
    "version": 3
   },
   "file_extension": ".py",
   "mimetype": "text/x-python",
   "name": "python",
   "nbconvert_exporter": "python",
   "pygments_lexer": "ipython3",
   "version": "3.12.7"
  }
 },
 "nbformat": 4,
 "nbformat_minor": 4
}
