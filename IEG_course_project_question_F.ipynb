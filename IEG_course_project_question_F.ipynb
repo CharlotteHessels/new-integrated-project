{
 "cells": [
  {
   "cell_type": "markdown",
   "metadata": {
    "id": "BGW_goJklh96"
   },
   "source": [
    "# Course project\n",
    "\n",
    "This notebook includes the steps to optimize the capacity and dispatch of generators in a stylized energy system. It has been prepared to serve as a tutorial for a simple PyPSA model representing the energy system in one country, city or region. \n",
    " \n",
    "\n",
    "For the (optional) project of the course [Integrated Energy Grids](https://kurser.dtu.dk/course/2024-2025/46770?menulanguage=en) you need to deliver a report including the sections described at the end of this notebook.\n",
    "\n",
    "Please, review the [PyPSA tutorial](https://martavp.github.io/integrated-energy-grids/intro-pypsa.html) before starting this project."
   ]
  },
  {
   "cell_type": "markdown",
   "metadata": {},
   "source": [
    ":::{note}\n",
    "If you have not yet set up Python on your computer, you can execute this tutorial in your browser via [Google Colab](https://colab.research.google.com/). Click on the rocket in the top right corner and launch \"Colab\". If that doesn't work download the `.ipynb` file and import it in [Google Colab](https://colab.research.google.com/).\n",
    "\n",
    "Then install `pandas` and `pypsa` by executing the following command in a Jupyter cell at the top of the notebook.\n",
    "\n",
    "```sh\n",
    "!pip install pandas pypsa\n",
    "```\n",
    ":::"
   ]
  },
  {
   "cell_type": "code",
   "metadata": {
    "colab": {
     "base_uri": "https://localhost:8080/"
    },
    "id": "SdJsOhJrlh98",
    "outputId": "af302421-fbfa-4363-81f3-58fa82e4b134",
    "ExecuteTime": {
     "end_time": "2025-04-23T08:49:01.221892Z",
     "start_time": "2025-04-23T08:48:58.883861Z"
    }
   },
   "source": "!pip install pypsa\n",
   "outputs": [
    {
     "name": "stdout",
     "output_type": "stream",
     "text": [
      "Requirement already satisfied: pypsa in c:\\users\\nadia\\pycharmprojects\\new-integrated-project\\new-integrated-project\\.venv\\lib\\site-packages (0.33.2)\n",
      "Requirement already satisfied: numpy in c:\\users\\nadia\\pycharmprojects\\new-integrated-project\\new-integrated-project\\.venv\\lib\\site-packages (from pypsa) (2.2.4)\n",
      "Requirement already satisfied: scipy in c:\\users\\nadia\\pycharmprojects\\new-integrated-project\\new-integrated-project\\.venv\\lib\\site-packages (from pypsa) (1.15.2)\n",
      "Requirement already satisfied: pandas>=0.24 in c:\\users\\nadia\\pycharmprojects\\new-integrated-project\\new-integrated-project\\.venv\\lib\\site-packages (from pypsa) (2.2.3)\n",
      "Requirement already satisfied: xarray in c:\\users\\nadia\\pycharmprojects\\new-integrated-project\\new-integrated-project\\.venv\\lib\\site-packages (from pypsa) (2025.3.0)\n",
      "Requirement already satisfied: netcdf4 in c:\\users\\nadia\\pycharmprojects\\new-integrated-project\\new-integrated-project\\.venv\\lib\\site-packages (from pypsa) (1.7.2)\n",
      "Requirement already satisfied: linopy>=0.4 in c:\\users\\nadia\\pycharmprojects\\new-integrated-project\\new-integrated-project\\.venv\\lib\\site-packages (from pypsa) (0.5.2)\n",
      "Requirement already satisfied: matplotlib in c:\\users\\nadia\\pycharmprojects\\new-integrated-project\\new-integrated-project\\.venv\\lib\\site-packages (from pypsa) (3.10.1)\n",
      "Requirement already satisfied: geopandas>=0.9 in c:\\users\\nadia\\pycharmprojects\\new-integrated-project\\new-integrated-project\\.venv\\lib\\site-packages (from pypsa) (1.0.1)\n",
      "Requirement already satisfied: networkx>=2 in c:\\users\\nadia\\pycharmprojects\\new-integrated-project\\new-integrated-project\\.venv\\lib\\site-packages (from pypsa) (3.4.2)\n",
      "Requirement already satisfied: deprecation in c:\\users\\nadia\\pycharmprojects\\new-integrated-project\\new-integrated-project\\.venv\\lib\\site-packages (from pypsa) (2.1.0)\n",
      "Requirement already satisfied: validators in c:\\users\\nadia\\pycharmprojects\\new-integrated-project\\new-integrated-project\\.venv\\lib\\site-packages (from pypsa) (0.34.0)\n",
      "Requirement already satisfied: highspy in c:\\users\\nadia\\pycharmprojects\\new-integrated-project\\new-integrated-project\\.venv\\lib\\site-packages (from pypsa) (1.10.0)\n",
      "Requirement already satisfied: pyogrio>=0.7.2 in c:\\users\\nadia\\pycharmprojects\\new-integrated-project\\new-integrated-project\\.venv\\lib\\site-packages (from geopandas>=0.9->pypsa) (0.10.0)\n",
      "Requirement already satisfied: packaging in c:\\users\\nadia\\pycharmprojects\\new-integrated-project\\new-integrated-project\\.venv\\lib\\site-packages (from geopandas>=0.9->pypsa) (24.2)\n",
      "Requirement already satisfied: pyproj>=3.3.0 in c:\\users\\nadia\\pycharmprojects\\new-integrated-project\\new-integrated-project\\.venv\\lib\\site-packages (from geopandas>=0.9->pypsa) (3.7.1)\n",
      "Requirement already satisfied: shapely>=2.0.0 in c:\\users\\nadia\\pycharmprojects\\new-integrated-project\\new-integrated-project\\.venv\\lib\\site-packages (from geopandas>=0.9->pypsa) (2.0.7)\n",
      "Requirement already satisfied: bottleneck in c:\\users\\nadia\\pycharmprojects\\new-integrated-project\\new-integrated-project\\.venv\\lib\\site-packages (from linopy>=0.4->pypsa) (1.4.2)\n",
      "Requirement already satisfied: toolz in c:\\users\\nadia\\pycharmprojects\\new-integrated-project\\new-integrated-project\\.venv\\lib\\site-packages (from linopy>=0.4->pypsa) (1.0.0)\n",
      "Requirement already satisfied: numexpr in c:\\users\\nadia\\pycharmprojects\\new-integrated-project\\new-integrated-project\\.venv\\lib\\site-packages (from linopy>=0.4->pypsa) (2.10.2)\n",
      "Requirement already satisfied: dask>=0.18.0 in c:\\users\\nadia\\pycharmprojects\\new-integrated-project\\new-integrated-project\\.venv\\lib\\site-packages (from linopy>=0.4->pypsa) (2025.3.0)\n",
      "Requirement already satisfied: polars in c:\\users\\nadia\\pycharmprojects\\new-integrated-project\\new-integrated-project\\.venv\\lib\\site-packages (from linopy>=0.4->pypsa) (1.26.0)\n",
      "Requirement already satisfied: tqdm in c:\\users\\nadia\\pycharmprojects\\new-integrated-project\\new-integrated-project\\.venv\\lib\\site-packages (from linopy>=0.4->pypsa) (4.67.1)\n",
      "Requirement already satisfied: python-dateutil>=2.8.2 in c:\\users\\nadia\\pycharmprojects\\new-integrated-project\\new-integrated-project\\.venv\\lib\\site-packages (from pandas>=0.24->pypsa) (2.9.0.post0)\n",
      "Requirement already satisfied: pytz>=2020.1 in c:\\users\\nadia\\pycharmprojects\\new-integrated-project\\new-integrated-project\\.venv\\lib\\site-packages (from pandas>=0.24->pypsa) (2025.1)\n",
      "Requirement already satisfied: tzdata>=2022.7 in c:\\users\\nadia\\pycharmprojects\\new-integrated-project\\new-integrated-project\\.venv\\lib\\site-packages (from pandas>=0.24->pypsa) (2025.2)\n",
      "Requirement already satisfied: contourpy>=1.0.1 in c:\\users\\nadia\\pycharmprojects\\new-integrated-project\\new-integrated-project\\.venv\\lib\\site-packages (from matplotlib->pypsa) (1.3.1)\n",
      "Requirement already satisfied: cycler>=0.10 in c:\\users\\nadia\\pycharmprojects\\new-integrated-project\\new-integrated-project\\.venv\\lib\\site-packages (from matplotlib->pypsa) (0.12.1)\n",
      "Requirement already satisfied: fonttools>=4.22.0 in c:\\users\\nadia\\pycharmprojects\\new-integrated-project\\new-integrated-project\\.venv\\lib\\site-packages (from matplotlib->pypsa) (4.56.0)\n",
      "Requirement already satisfied: kiwisolver>=1.3.1 in c:\\users\\nadia\\pycharmprojects\\new-integrated-project\\new-integrated-project\\.venv\\lib\\site-packages (from matplotlib->pypsa) (1.4.8)\n",
      "Requirement already satisfied: pillow>=8 in c:\\users\\nadia\\pycharmprojects\\new-integrated-project\\new-integrated-project\\.venv\\lib\\site-packages (from matplotlib->pypsa) (11.1.0)\n",
      "Requirement already satisfied: pyparsing>=2.3.1 in c:\\users\\nadia\\pycharmprojects\\new-integrated-project\\new-integrated-project\\.venv\\lib\\site-packages (from matplotlib->pypsa) (3.2.2)\n",
      "Requirement already satisfied: cftime in c:\\users\\nadia\\pycharmprojects\\new-integrated-project\\new-integrated-project\\.venv\\lib\\site-packages (from netcdf4->pypsa) (1.6.4.post1)\n",
      "Requirement already satisfied: certifi in c:\\users\\nadia\\pycharmprojects\\new-integrated-project\\new-integrated-project\\.venv\\lib\\site-packages (from netcdf4->pypsa) (2025.1.31)\n",
      "Requirement already satisfied: click>=8.1 in c:\\users\\nadia\\pycharmprojects\\new-integrated-project\\new-integrated-project\\.venv\\lib\\site-packages (from dask>=0.18.0->linopy>=0.4->pypsa) (8.1.8)\n",
      "Requirement already satisfied: cloudpickle>=3.0.0 in c:\\users\\nadia\\pycharmprojects\\new-integrated-project\\new-integrated-project\\.venv\\lib\\site-packages (from dask>=0.18.0->linopy>=0.4->pypsa) (3.1.1)\n",
      "Requirement already satisfied: fsspec>=2021.09.0 in c:\\users\\nadia\\pycharmprojects\\new-integrated-project\\new-integrated-project\\.venv\\lib\\site-packages (from dask>=0.18.0->linopy>=0.4->pypsa) (2025.3.0)\n",
      "Requirement already satisfied: partd>=1.4.0 in c:\\users\\nadia\\pycharmprojects\\new-integrated-project\\new-integrated-project\\.venv\\lib\\site-packages (from dask>=0.18.0->linopy>=0.4->pypsa) (1.4.2)\n",
      "Requirement already satisfied: pyyaml>=5.3.1 in c:\\users\\nadia\\pycharmprojects\\new-integrated-project\\new-integrated-project\\.venv\\lib\\site-packages (from dask>=0.18.0->linopy>=0.4->pypsa) (6.0.2)\n",
      "Requirement already satisfied: six>=1.5 in c:\\users\\nadia\\pycharmprojects\\new-integrated-project\\new-integrated-project\\.venv\\lib\\site-packages (from python-dateutil>=2.8.2->pandas>=0.24->pypsa) (1.17.0)\n",
      "Requirement already satisfied: colorama in c:\\users\\nadia\\pycharmprojects\\new-integrated-project\\new-integrated-project\\.venv\\lib\\site-packages (from tqdm->linopy>=0.4->pypsa) (0.4.6)\n",
      "Requirement already satisfied: locket in c:\\users\\nadia\\pycharmprojects\\new-integrated-project\\new-integrated-project\\.venv\\lib\\site-packages (from partd>=1.4.0->dask>=0.18.0->linopy>=0.4->pypsa) (1.0.0)\n"
     ]
    },
    {
     "name": "stderr",
     "output_type": "stream",
     "text": [
      "\n",
      "[notice] A new release of pip is available: 23.2.1 -> 25.0.1\n",
      "[notice] To update, run: python.exe -m pip install --upgrade pip\n"
     ]
    }
   ],
   "execution_count": 52
  },
  {
   "cell_type": "code",
   "metadata": {
    "ExecuteTime": {
     "end_time": "2025-04-23T08:49:01.261593Z",
     "start_time": "2025-04-23T08:49:01.257060Z"
    }
   },
   "source": [
    "import pandas as pd\n",
    "import pypsa"
   ],
   "outputs": [],
   "execution_count": 53
  },
  {
   "cell_type": "markdown",
   "metadata": {
    "id": "zqdclW57lh-A"
   },
   "source": [
    "We start by creating the network. In this example, the country is modelled as a single node, so the network includes only one bus.\n",
    "\n",
    "We select the year 2015 and set the hours in that year as snapshots.\n",
    "\n",
    "We select a country, in this case Denmark (DNK), and add one node (electricity bus) to the network."
   ]
  },
  {
   "cell_type": "code",
   "metadata": {
    "colab": {
     "base_uri": "https://localhost:8080/",
     "height": 446
    },
    "id": "UElULGBVlh-C",
    "outputId": "b77ed0b5-fb74-4ec2-db18-e2a341b267fa",
    "ExecuteTime": {
     "end_time": "2025-04-23T08:49:01.375459Z",
     "start_time": "2025-04-23T08:49:01.318359Z"
    }
   },
   "source": [
    "network = pypsa.Network()\n",
    "hours_in_2017 = pd.date_range('2017-01-01 00:00Z',\n",
    "                              '2017-12-31 23:00Z',\n",
    "                              freq='h')\n",
    "\n",
    "network.set_snapshots(hours_in_2017.values)\n",
    "\n",
    "network.add(\"Bus\",\n",
    "            \"electricity bus\")\n",
    "\n",
    "\n",
    "network.add(\"Bus\",\n",
    "            \"electricity bus GERMANY\")\n",
    "\n",
    "network.add(\"Bus\",\n",
    "            \"electricity bus BELGIUM\")\n",
    "\n",
    "network.snapshots\n"
   ],
   "outputs": [
    {
     "data": {
      "text/plain": [
       "DatetimeIndex(['2017-01-01 00:00:00', '2017-01-01 01:00:00',\n",
       "               '2017-01-01 02:00:00', '2017-01-01 03:00:00',\n",
       "               '2017-01-01 04:00:00', '2017-01-01 05:00:00',\n",
       "               '2017-01-01 06:00:00', '2017-01-01 07:00:00',\n",
       "               '2017-01-01 08:00:00', '2017-01-01 09:00:00',\n",
       "               ...\n",
       "               '2017-12-31 14:00:00', '2017-12-31 15:00:00',\n",
       "               '2017-12-31 16:00:00', '2017-12-31 17:00:00',\n",
       "               '2017-12-31 18:00:00', '2017-12-31 19:00:00',\n",
       "               '2017-12-31 20:00:00', '2017-12-31 21:00:00',\n",
       "               '2017-12-31 22:00:00', '2017-12-31 23:00:00'],\n",
       "              dtype='datetime64[ns]', name='snapshot', length=8760, freq=None)"
      ]
     },
     "execution_count": 54,
     "metadata": {},
     "output_type": "execute_result"
    }
   ],
   "execution_count": 54
  },
  {
   "cell_type": "markdown",
   "metadata": {
    "id": "qMeYet1Blh-D"
   },
   "source": [
    "The demand is represented by the historical electricity demand in 2015 with hourly resolution.\n",
    "\n",
    "The file with historical hourly electricity demand for every European country is available in the data folder.\n",
    "\n",
    "The electricity demand time series were obtained from ENTSOE through the very convenient compilation carried out by the Open Power System Data (OPSD). https://data.open-power-system-data.org/time_series/"
   ]
  },
  {
   "cell_type": "code",
   "metadata": {
    "id": "Y8lgJWVxlh-E",
    "outputId": "f63f12ad-3f84-42e8-fb40-7e88e215aeb1",
    "ExecuteTime": {
     "end_time": "2025-04-23T08:49:01.423634Z",
     "start_time": "2025-04-23T08:49:01.381243Z"
    }
   },
   "source": [
    "# load electricity demand data\n",
    "df_elec = pd.read_csv('electricity_demand.csv', sep=';', index_col=0) # in MWh\n",
    "df_elec.index = pd.to_datetime(df_elec.index) #change index to datatime\n",
    "country='NLD'\n",
    "country2 = 'DEU'\n",
    "country3 = 'BEL'\n",
    "print(df_elec[country].head())"
   ],
   "outputs": [
    {
     "name": "stdout",
     "output_type": "stream",
     "text": [
      "utc_time\n",
      "2015-01-01 00:00:00+00:00    11338.0\n",
      "2015-01-01 01:00:00+00:00    10917.0\n",
      "2015-01-01 02:00:00+00:00    10473.0\n",
      "2015-01-01 03:00:00+00:00    10200.0\n",
      "2015-01-01 04:00:00+00:00    10182.0\n",
      "Name: NLD, dtype: float64\n"
     ]
    }
   ],
   "execution_count": 55
  },
  {
   "metadata": {
    "ExecuteTime": {
     "end_time": "2025-04-23T08:49:01.469102Z",
     "start_time": "2025-04-23T08:49:01.454212Z"
    }
   },
   "cell_type": "code",
   "source": [
    "nodes = pd.Series(['NLD','DEU','BEL']).values\n",
    "\n",
    "# longitude\n",
    "xs = {'NLD':5.291266,\n",
    "     'DEU':10.451526,\n",
    "     'BEL':4.469936}\n",
    "\n",
    "# latitude\n",
    "ys = {'NLD':52.132633,\n",
    "     'DEU':51.165691,\n",
    "     'BEL':50.503887}\n",
    "\n",
    "network.add(\"Bus\",'NLD',x=xs['NLD'],y=ys['NLD'])\n",
    "network.add(\"Bus\",'DEU',x=xs['DEU'],y=ys['DEU'])\n",
    "network.add(\"Bus\",'BEL',x=xs['BEL'],y=ys['BEL'])"
   ],
   "outputs": [
    {
     "data": {
      "text/plain": [
       "Index(['BEL'], dtype='object')"
      ]
     },
     "execution_count": 56,
     "metadata": {},
     "output_type": "execute_result"
    }
   ],
   "execution_count": 56
  },
  {
   "cell_type": "markdown",
   "metadata": {
    "id": "BCkiEvu2lh-H"
   },
   "source": [
    "Print the load time series to check that it has been properly added (you should see numbers and not 'NaN')"
   ]
  },
  {
   "cell_type": "code",
   "metadata": {
    "id": "Z791IbiHlh-I",
    "outputId": "c4d8f75a-9e6d-4174-ea21-5f0065a94ebd",
    "ExecuteTime": {
     "end_time": "2025-04-23T08:49:01.506306Z",
     "start_time": "2025-04-23T08:49:01.496705Z"
    }
   },
   "source": [
    "network.loads_t.p_set"
   ],
   "outputs": [
    {
     "data": {
      "text/plain": [
       "Empty DataFrame\n",
       "Columns: []\n",
       "Index: [2017-01-01 00:00:00, 2017-01-01 01:00:00, 2017-01-01 02:00:00, 2017-01-01 03:00:00, 2017-01-01 04:00:00, 2017-01-01 05:00:00, 2017-01-01 06:00:00, 2017-01-01 07:00:00, 2017-01-01 08:00:00, 2017-01-01 09:00:00, 2017-01-01 10:00:00, 2017-01-01 11:00:00, 2017-01-01 12:00:00, 2017-01-01 13:00:00, 2017-01-01 14:00:00, 2017-01-01 15:00:00, 2017-01-01 16:00:00, 2017-01-01 17:00:00, 2017-01-01 18:00:00, 2017-01-01 19:00:00, 2017-01-01 20:00:00, 2017-01-01 21:00:00, 2017-01-01 22:00:00, 2017-01-01 23:00:00, 2017-01-02 00:00:00, 2017-01-02 01:00:00, 2017-01-02 02:00:00, 2017-01-02 03:00:00, 2017-01-02 04:00:00, 2017-01-02 05:00:00, 2017-01-02 06:00:00, 2017-01-02 07:00:00, 2017-01-02 08:00:00, 2017-01-02 09:00:00, 2017-01-02 10:00:00, 2017-01-02 11:00:00, 2017-01-02 12:00:00, 2017-01-02 13:00:00, 2017-01-02 14:00:00, 2017-01-02 15:00:00, 2017-01-02 16:00:00, 2017-01-02 17:00:00, 2017-01-02 18:00:00, 2017-01-02 19:00:00, 2017-01-02 20:00:00, 2017-01-02 21:00:00, 2017-01-02 22:00:00, 2017-01-02 23:00:00, 2017-01-03 00:00:00, 2017-01-03 01:00:00, 2017-01-03 02:00:00, 2017-01-03 03:00:00, 2017-01-03 04:00:00, 2017-01-03 05:00:00, 2017-01-03 06:00:00, 2017-01-03 07:00:00, 2017-01-03 08:00:00, 2017-01-03 09:00:00, 2017-01-03 10:00:00, 2017-01-03 11:00:00, 2017-01-03 12:00:00, 2017-01-03 13:00:00, 2017-01-03 14:00:00, 2017-01-03 15:00:00, 2017-01-03 16:00:00, 2017-01-03 17:00:00, 2017-01-03 18:00:00, 2017-01-03 19:00:00, 2017-01-03 20:00:00, 2017-01-03 21:00:00, 2017-01-03 22:00:00, 2017-01-03 23:00:00, 2017-01-04 00:00:00, 2017-01-04 01:00:00, 2017-01-04 02:00:00, 2017-01-04 03:00:00, 2017-01-04 04:00:00, 2017-01-04 05:00:00, 2017-01-04 06:00:00, 2017-01-04 07:00:00, 2017-01-04 08:00:00, 2017-01-04 09:00:00, 2017-01-04 10:00:00, 2017-01-04 11:00:00, 2017-01-04 12:00:00, 2017-01-04 13:00:00, 2017-01-04 14:00:00, 2017-01-04 15:00:00, 2017-01-04 16:00:00, 2017-01-04 17:00:00, 2017-01-04 18:00:00, 2017-01-04 19:00:00, 2017-01-04 20:00:00, 2017-01-04 21:00:00, 2017-01-04 22:00:00, 2017-01-04 23:00:00, 2017-01-05 00:00:00, 2017-01-05 01:00:00, 2017-01-05 02:00:00, 2017-01-05 03:00:00, ...]\n",
       "\n",
       "[8760 rows x 0 columns]"
      ],
      "text/html": [
       "<div>\n",
       "<style scoped>\n",
       "    .dataframe tbody tr th:only-of-type {\n",
       "        vertical-align: middle;\n",
       "    }\n",
       "\n",
       "    .dataframe tbody tr th {\n",
       "        vertical-align: top;\n",
       "    }\n",
       "\n",
       "    .dataframe thead th {\n",
       "        text-align: right;\n",
       "    }\n",
       "</style>\n",
       "<table border=\"1\" class=\"dataframe\">\n",
       "  <thead>\n",
       "    <tr style=\"text-align: right;\">\n",
       "      <th>Load</th>\n",
       "    </tr>\n",
       "    <tr>\n",
       "      <th>snapshot</th>\n",
       "    </tr>\n",
       "  </thead>\n",
       "  <tbody>\n",
       "    <tr>\n",
       "      <th>2017-01-01 00:00:00</th>\n",
       "    </tr>\n",
       "    <tr>\n",
       "      <th>2017-01-01 01:00:00</th>\n",
       "    </tr>\n",
       "    <tr>\n",
       "      <th>2017-01-01 02:00:00</th>\n",
       "    </tr>\n",
       "    <tr>\n",
       "      <th>2017-01-01 03:00:00</th>\n",
       "    </tr>\n",
       "    <tr>\n",
       "      <th>2017-01-01 04:00:00</th>\n",
       "    </tr>\n",
       "    <tr>\n",
       "      <th>...</th>\n",
       "    </tr>\n",
       "    <tr>\n",
       "      <th>2017-12-31 19:00:00</th>\n",
       "    </tr>\n",
       "    <tr>\n",
       "      <th>2017-12-31 20:00:00</th>\n",
       "    </tr>\n",
       "    <tr>\n",
       "      <th>2017-12-31 21:00:00</th>\n",
       "    </tr>\n",
       "    <tr>\n",
       "      <th>2017-12-31 22:00:00</th>\n",
       "    </tr>\n",
       "    <tr>\n",
       "      <th>2017-12-31 23:00:00</th>\n",
       "    </tr>\n",
       "  </tbody>\n",
       "</table>\n",
       "<p>8760 rows × 0 columns</p>\n",
       "</div>"
      ]
     },
     "execution_count": 57,
     "metadata": {},
     "output_type": "execute_result"
    }
   ],
   "execution_count": 57
  },
  {
   "cell_type": "markdown",
   "metadata": {
    "id": "z0Xa6qINlh-J"
   },
   "source": [
    "In the optimization, we will minimize the annualized system costs.\n",
    "\n",
    "We will need to annualize the cost of every generator, we build a function to do it."
   ]
  },
  {
   "cell_type": "code",
   "metadata": {
    "id": "8FwQn-1Glh-K",
    "ExecuteTime": {
     "end_time": "2025-04-23T08:49:01.556219Z",
     "start_time": "2025-04-23T08:49:01.552211Z"
    }
   },
   "source": [
    "def annuity(n,r):\n",
    "    \"\"\" Calculate the annuity factor for an asset with lifetime n years and\n",
    "    discount rate  r \"\"\"\n",
    "\n",
    "    if r > 0:\n",
    "        return r/(1. - 1./(1.+r)**n)\n",
    "    else:\n",
    "        return 1/n\n"
   ],
   "outputs": [],
   "execution_count": 58
  },
  {
   "metadata": {
    "id": "qmgek0dplh-K"
   },
   "cell_type": "markdown",
   "source": [
    "We include solar PV and onshore wind generators.\n",
    "\n",
    "The capacity factors representing the availability of those generators for every European country can be downloaded from the following repositories (select 'optimal' for PV and onshore for wind).\n",
    "\n",
    "https://zenodo.org/record/3253876#.XSiVOEdS8l0\n",
    "\n",
    "https://zenodo.org/record/2613651#.XSiVOkdS8l0\n",
    "\n",
    "We include also Open Cycle Gas Turbine (OCGT) generators\n",
    "\n",
    "The cost assumed for the generators are the same as in Table 1 in the paper https://doi.org/10.1016/j.enconman.2019.111977 (open version:  https://arxiv.org/pdf/1906.06936.pdf)"
   ]
  },
  {
   "metadata": {
    "id": "Z76IMqR7lh-K",
    "ExecuteTime": {
     "end_time": "2025-04-23T08:49:03.778383Z",
     "start_time": "2025-04-23T08:49:01.703265Z"
    }
   },
   "cell_type": "code",
   "source": [
    "# add the different carriers, only gas emits CO2\n",
    "network.add(\"Carrier\", \"gas\", co2_emissions=0.19) # in t_CO2/MWh_th\n",
    "network.add(\"Carrier\", \"onshorewind\")\n",
    "network.add(\"Carrier\", \"solar\")\n",
    "\n",
    "# add onshore wind generator\n",
    "df_onshorewind = pd.read_csv('onshore_wind_1979-2017.csv', sep=';', index_col=0)\n",
    "df_onshorewind.index = pd.to_datetime(df_onshorewind.index)\n",
    "CF_wind_NDL = df_onshorewind[country][[hour.strftime(\"%Y-%m-%dT%H:%M:%SZ\") for hour in network.snapshots]]\n",
    "#the capacity factor is being extracted with this line above\n",
    "capital_cost_onshorewind = annuity(30,0.07)*910000*(1+0.033) # in €/MW, this is a formula to calculate annuality in function of years, interest, investment costs and a fix factor\n",
    "network.add(\"Generator\",\n",
    "            \"onshorewind_NDL\",\n",
    "            bus=\"electricity bus\",\n",
    "            p_nom_extendable=True,\n",
    "            carrier=\"onshorewind\",\n",
    "            #p_nom_max=1000, # maximum capacity can be limited due to environmental constraints\n",
    "            capital_cost = capital_cost_onshorewind,\n",
    "            marginal_cost = 0,\n",
    "            p_max_pu = CF_wind_NDL.values, overwrite=True)\n",
    "\n",
    "CF_wind_DEU = df_onshorewind[country2][[hour.strftime(\"%Y-%m-%dT%H:%M:%SZ\") for hour in network.snapshots]]\n",
    "network.add(\"Generator\",\n",
    "            \"onshorewind_DEU\",\n",
    "            bus=\"electricity bus GERMANY\",\n",
    "            p_nom_extendable=True,\n",
    "            carrier=\"onshorewind\",\n",
    "            #p_nom_max=1000, # maximum capacity can be limited due to environmental constraints\n",
    "            capital_cost = capital_cost_onshorewind,\n",
    "            marginal_cost = 0,\n",
    "            p_max_pu = CF_wind_DEU.values, overwrite=True)\n",
    "\n",
    "CF_wind_BEL = df_onshorewind[country3][[hour.strftime(\"%Y-%m-%dT%H:%M:%SZ\") for hour in network.snapshots]]\n",
    "network.add(\"Generator\",\n",
    "            \"onshorewind_BEL\",\n",
    "            bus=\"electricity bus BELGIUM\",\n",
    "            p_nom_extendable=True,\n",
    "            carrier=\"onshorewind\",\n",
    "            #p_nom_max=1000, # maximum capacity can be limited due to environmental constraints\n",
    "            capital_cost = capital_cost_onshorewind,\n",
    "            marginal_cost = 0,\n",
    "            p_max_pu = CF_wind_BEL.values, overwrite=True)\n",
    "\n",
    "\n",
    "# add solar PV generator\n",
    "df_solar = pd.read_csv('pv_optimal.csv', sep=';', index_col=0)\n",
    "df_solar.index = pd.to_datetime(df_solar.index)\n",
    "CF_solar_NDL = df_solar[country][[hour.strftime(\"%Y-%m-%dT%H:%M:%SZ\") for hour in network.snapshots]]\n",
    "capital_cost_solar = annuity(25,0.07)*425000*(1+0.03) # in €/MW\n",
    "network.add(\"Generator\",\n",
    "            \"solar_NDL\",\n",
    "            bus=\"electricity bus\",\n",
    "            p_nom_extendable=True,\n",
    "            carrier=\"solar\",\n",
    "            #p_nom_max=1000, # maximum capacity can be limited due to environmental constraints\n",
    "            capital_cost = capital_cost_solar,\n",
    "            marginal_cost = 0,\n",
    "            p_max_pu = CF_solar_NDL.values, overwrite=True)\n",
    "\n",
    "CF_solar_DEU = df_solar[country2][[hour.strftime(\"%Y-%m-%dT%H:%M:%SZ\") for hour in network.snapshots]]\n",
    "network.add(\"Generator\",\n",
    "            \"solar_DEU\",\n",
    "            bus=\"electricity bus GERMANY\",\n",
    "            p_nom_extendable=True,\n",
    "            carrier=\"solar\",\n",
    "            #p_nom_max=1000, # maximum capacity can be limited due to environmental constraints\n",
    "            capital_cost = capital_cost_solar,\n",
    "            marginal_cost = 0,\n",
    "            p_max_pu = CF_solar_DEU.values, overwrite=True)\n",
    "\n",
    "CF_solar_BEL = df_solar[country3][[hour.strftime(\"%Y-%m-%dT%H:%M:%SZ\") for hour in network.snapshots]]\n",
    "network.add(\"Generator\",\n",
    "            \"solar_BEL\",\n",
    "            bus=\"electricity bus BELGIUM\",\n",
    "            p_nom_extendable=True,\n",
    "            carrier=\"solar\",\n",
    "            #p_nom_max=1000, # maximum capacity can be limited due to environmental constraints\n",
    "            capital_cost = capital_cost_solar,\n",
    "            marginal_cost = 0,\n",
    "            p_max_pu = CF_solar_BEL.values, overwrite=True)\n",
    "\n",
    "\n",
    "\n",
    "# add OCGT (Open Cycle Gas Turbine) generator\n",
    "capital_cost_OCGT = annuity(25,0.07)*560000*(1+0.033) # in €/MW\n",
    "fuel_cost = 20.1 # in €/MWh_th\n",
    "efficiency = 0.39 # MWh_elec/MWh_th\n",
    "marginal_cost_OCGT = fuel_cost/efficiency # in €/MWh_el\n",
    "network.add(\"Generator\",\n",
    "            \"OCGT_NDL\",\n",
    "            bus=\"electricity bus\",\n",
    "            p_nom_extendable=True,\n",
    "            carrier=\"gas\",\n",
    "            #p_nom_max=1000,\n",
    "            capital_cost = capital_cost_OCGT,\n",
    "            marginal_cost = marginal_cost_OCGT, overwrite=True)\n",
    "\n",
    "network.add(\"Generator\",\n",
    "            \"OCGT_DEU\",\n",
    "            bus=\"electricity bus GERMANY\",\n",
    "            p_nom_extendable=True,\n",
    "            carrier=\"gas\",\n",
    "            #p_nom_max=1000,\n",
    "            capital_cost = capital_cost_OCGT,\n",
    "            marginal_cost = marginal_cost_OCGT, overwrite=True)\n",
    "\n",
    "network.add(\"Generator\",\n",
    "            \"OCGT_BEL\",\n",
    "            bus=\"electricity bus BELGIUM\",\n",
    "            p_nom_extendable=True,\n",
    "            carrier=\"gas\",\n",
    "            #p_nom_max=1000,\n",
    "            capital_cost = capital_cost_OCGT,\n",
    "            marginal_cost = marginal_cost_OCGT, overwrite=True)\n",
    "\n",
    "\n",
    "\n",
    "# THIS IS FOR QUESTION C\n",
    "#avg_CF_wind = CF_wind.mean()\n",
    "#avg_CF_solar = CF_solar.mean()\n",
    "#print(f\"Average Capacity Factor for Solar : {avg_CF_solar:.2%}\")\n",
    "#print(f\"Average Capacity Factor for Onshore Wind: {avg_CF_wind:.2%}\")\n",
    "#print(CF_wind)\n",
    "\n",
    "#annual_mean_pv = df_solar[country].resample('YE').mean()\n",
    "#annual_mean_pv.plot(kind='line', ylabel='Capacity Factor solar PV', color='orange')\n",
    "#print('Average solar annual mean {:.2f}, \\nNormalized Standar deviation {:.2f} %'.format(annual_mean_pv.mean(),annual_mean_pv.std()/annual_mean_pv.mean()))\n",
    "\n",
    "#annual_mean_wind = df_onshorewind[country].resample('YE').mean()\n",
    "#annual_mean_wind.plot(kind='line', ylabel='Capacity Factor onshore wind')\n",
    "#print('Average wind annual mean {:.2f}, \\nNormalized Standar deviation {:.2f} %'.format(annual_mean_wind.mean(),annual_mean_wind.std()/annual_mean_wind.mean()))\n"
   ],
   "outputs": [
    {
     "data": {
      "text/plain": [
       "Index(['OCGT_BEL'], dtype='object')"
      ]
     },
     "execution_count": 59,
     "metadata": {},
     "output_type": "execute_result"
    }
   ],
   "execution_count": 59
  },
  {
   "metadata": {
    "ExecuteTime": {
     "end_time": "2025-04-23T08:49:04.128317Z",
     "start_time": "2025-04-23T08:49:03.788620Z"
    }
   },
   "cell_type": "code",
   "source": [
    "CF_wind = pd.DataFrame()\n",
    "CF_solar = pd.DataFrame()\n",
    "for i in range(len(nodes)):\n",
    "    CF_wind[nodes[i]] = df_onshorewind[nodes[i]][[hour.strftime(\"%Y-%m-%dT%H:%M:%SZ\") for hour in network.snapshots]]\n",
    "    CF_solar[nodes[i]] = df_solar[nodes[i]][[hour.strftime(\"%Y-%m-%dT%H:%M:%SZ\") for hour in network.snapshots]]"
   ],
   "outputs": [],
   "execution_count": 60
  },
  {
   "metadata": {
    "ExecuteTime": {
     "end_time": "2025-04-23T08:49:04.174571Z",
     "start_time": "2025-04-23T08:49:04.156593Z"
    }
   },
   "cell_type": "code",
   "source": [
    "# add load to the bus\n",
    "network.add(\"Load\",\n",
    "            \"load NDL\",\n",
    "            bus=\"electricity bus\",\n",
    "            p_set=df_elec[country].values)\n",
    "\n",
    "network.add(\"Load\",\n",
    "            \"load GER\",\n",
    "            bus=\"electricity bus GERMANY\",\n",
    "            p_set=df_elec[country2].values)\n",
    "\n",
    "network.add(\"Load\",\n",
    "            \"load BEL\",\n",
    "            bus=\"electricity bus BELGIUM\",\n",
    "            p_set=df_elec[country3].values)\n",
    "\n"
   ],
   "outputs": [
    {
     "data": {
      "text/plain": [
       "Index(['load BEL'], dtype='object')"
      ]
     },
     "execution_count": 61,
     "metadata": {},
     "output_type": "execute_result"
    }
   ],
   "execution_count": 61
  },
  {
   "metadata": {
    "ExecuteTime": {
     "end_time": "2025-04-23T08:49:04.227323Z",
     "start_time": "2025-04-23T08:49:04.202154Z"
    }
   },
   "cell_type": "code",
   "source": [
    "capital_cost_link_NDL_DEU = annuity(25,0.07)*180000*(1+0.033) # in €/MW\n",
    "network.add(\n",
    "    \"Line\",\n",
    "    'country - country2',\n",
    "    bus0=\"electricity bus\",\n",
    "    bus1=\"electricity bus GERMANY\",\n",
    "     s_nom=1000,\n",
    "    s_nom_extendable=True,\n",
    "     p_min_pu=-1,\n",
    "    x = 1,\n",
    "    r = 1,\n",
    " capital_cost=capital_cost_link_NDL_DEU, # capital cost * length\n",
    "    overwrite=True\n",
    ")\n",
    "\n",
    "capital_cost_link_NDL_BEL= annuity(25,0.07)*100000*(1+0.033) # in €/MW\n",
    "network.add(\n",
    "    \"Line\",\n",
    "    'country - country3',\n",
    "    bus0=\"electricity bus\",\n",
    "    bus1=\"electricity bus BELGIUM\",\n",
    "     s_nom_max=1000,\n",
    "    s_nom_extendable=True,\n",
    "     p_min_pu=-1,\n",
    "    x = 1,\n",
    "    r = 1,\n",
    "    overwrite=True,\n",
    "    capital_cost=capital_cost_link_NDL_BEL,\n",
    ")\n",
    "\n",
    "capital_cost_link_DEU_BEL= annuity(25,0.07)*220000*(1+0.033) # in €/MW\n",
    "network.add(\n",
    "    \"Line\",\n",
    "    'country2 - country3',\n",
    "    bus0=\"electricity bus GERMANY\",\n",
    "    bus1=\"electricity bus BELGIUM\",\n",
    "\n",
    "\n",
    "    s_nom_extendable=True,\n",
    "     p_min_pu=-1,\n",
    "    x = 1,\n",
    "    r = 1,\n",
    "    overwrite=True,\n",
    "    capital_cost=capital_cost_link_DEU_BEL# capital cost * length\n",
    ")\n",
    "#TAKE A LOOK AT 10"
   ],
   "outputs": [
    {
     "data": {
      "text/plain": [
       "Index(['country2 - country3'], dtype='object')"
      ]
     },
     "execution_count": 62,
     "metadata": {},
     "output_type": "execute_result"
    }
   ],
   "execution_count": 62
  },
  {
   "metadata": {
    "ExecuteTime": {
     "end_time": "2025-04-23T08:49:44.450242Z",
     "start_time": "2025-04-23T08:49:04.281311Z"
    }
   },
   "cell_type": "code",
   "source": "network.optimize()",
   "outputs": [
    {
     "name": "stderr",
     "output_type": "stream",
     "text": [
      "WARNING:pypsa.consistency:The following lines have carriers which are not defined:\n",
      "Index(['country - country2', 'country - country3', 'country2 - country3'], dtype='object', name='Line')\n",
      "WARNING:pypsa.consistency:The following buses have carriers which are not defined:\n",
      "Index(['electricity bus', 'electricity bus GERMANY', 'electricity bus BELGIUM',\n",
      "       'NLD', 'DEU', 'BEL'],\n",
      "      dtype='object', name='Bus')\n",
      "WARNING:pypsa.consistency:The following buses have no attached components, which can break the lopf: {'NLD', 'DEU', 'BEL'}\n",
      "INFO:linopy.model: Solve problem using Highs solver\n",
      "INFO:linopy.io:Writing objective.\n",
      "Writing constraints.: 100%|\u001B[38;2;128;191;255m██████████\u001B[0m| 10/10 [00:00<00:00, 11.27it/s]\n",
      "Writing continuous variables.: 100%|\u001B[38;2;128;191;255m██████████\u001B[0m| 5/5 [00:00<00:00, 32.46it/s]\n",
      "INFO:linopy.io: Writing time: 1.09s\n",
      "INFO:linopy.constants: Optimization successful: \n",
      "Status: ok\n",
      "Termination condition: optimal\n",
      "Solution: 105133 primals, 245294 duals\n",
      "Objective: 3.87e+10\n",
      "Solver model: available\n",
      "Solver message: optimal\n",
      "\n",
      "INFO:pypsa.optimization.optimize:The shadow-prices of the constraints Generator-ext-p-lower, Generator-ext-p-upper, Line-ext-s-lower, Line-ext-s-upper, Kirchhoff-Voltage-Law were not assigned to the network.\n"
     ]
    },
    {
     "data": {
      "text/plain": [
       "('ok', 'optimal')"
      ]
     },
     "execution_count": 63,
     "metadata": {},
     "output_type": "execute_result"
    }
   ],
   "execution_count": 63
  },
  {
   "metadata": {
    "ExecuteTime": {
     "end_time": "2025-04-23T08:49:44.504139Z",
     "start_time": "2025-04-23T08:49:44.499363Z"
    }
   },
   "cell_type": "code",
   "source": "print(network.objective/1000000) #in 10^6 €",
   "outputs": [
    {
     "name": "stdout",
     "output_type": "stream",
     "text": [
      "38671.229929618654\n"
     ]
    }
   ],
   "execution_count": 64
  },
  {
   "metadata": {
    "ExecuteTime": {
     "end_time": "2025-04-23T08:49:44.561671Z",
     "start_time": "2025-04-23T08:49:44.556098Z"
    }
   },
   "cell_type": "code",
   "source": "print(network.objective/network.loads_t.p.sum()) # EUR/MWh",
   "outputs": [
    {
     "name": "stdout",
     "output_type": "stream",
     "text": [
      "Load\n",
      "load NDL    341.468185\n",
      "load GER     76.536596\n",
      "load BEL    453.775866\n",
      "dtype: float64\n"
     ]
    }
   ],
   "execution_count": 65
  },
  {
   "metadata": {
    "ExecuteTime": {
     "end_time": "2025-04-23T08:49:44.577082Z",
     "start_time": "2025-04-23T08:49:44.569667Z"
    }
   },
   "cell_type": "code",
   "source": "network.buses_t.marginal_price.mean()",
   "outputs": [
    {
     "data": {
      "text/plain": [
       "Bus\n",
       "electricity bus            52.826187\n",
       "electricity bus GERMANY    52.837052\n",
       "electricity bus BELGIUM    53.911987\n",
       "NLD                         0.000000\n",
       "DEU                         0.000000\n",
       "BEL                         0.000000\n",
       "dtype: float64"
      ]
     },
     "execution_count": 66,
     "metadata": {},
     "output_type": "execute_result"
    }
   ],
   "execution_count": 66
  },
  {
   "metadata": {
    "ExecuteTime": {
     "end_time": "2025-04-23T08:49:44.635298Z",
     "start_time": "2025-04-23T08:49:44.629094Z"
    }
   },
   "cell_type": "code",
   "source": "network.generators.p_nom_opt # in MW",
   "outputs": [
    {
     "data": {
      "text/plain": [
       "Generator\n",
       "onshorewind_NDL    20369.046731\n",
       "onshorewind_DEU    92659.831706\n",
       "onshorewind_BEL     7483.613133\n",
       "solar_NDL          17021.616865\n",
       "solar_DEU          85720.100945\n",
       "solar_BEL          19500.126469\n",
       "OCGT_NDL           17502.181617\n",
       "OCGT_DEU           71148.419870\n",
       "OCGT_BEL           15876.847304\n",
       "Name: p_nom_opt, dtype: float64"
      ]
     },
     "execution_count": 67,
     "metadata": {},
     "output_type": "execute_result"
    }
   ],
   "execution_count": 67
  },
  {
   "metadata": {
    "ExecuteTime": {
     "end_time": "2025-04-23T08:49:44.689651Z",
     "start_time": "2025-04-23T08:49:44.681614Z"
    }
   },
   "cell_type": "code",
   "source": [
    "# Sum flows over each day\n",
    "daily_flow = network.lines_t.p0.resample('ME').sum()\n",
    "\n",
    "print(daily_flow)\n",
    " #ponerlo por dia o semana, ver los paises que tienen más generacion y deficit y ver cómo debería de fluir la energía dependiendo del overflow o no"
   ],
   "outputs": [
    {
     "name": "stdout",
     "output_type": "stream",
     "text": [
      "Line        country - country2  country - country3  country2 - country3\n",
      "snapshot                                                               \n",
      "2017-01-31       -16369.111281        45577.944276         61947.055557\n",
      "2017-02-28        58870.510870        99340.363282         40469.852412\n",
      "2017-03-31        52735.367917        19773.272537        -32962.095379\n",
      "2017-04-30        23606.134245        -8766.820723        -32372.954967\n",
      "2017-05-31       123977.166207       -80330.739413       -204307.905619\n",
      "2017-06-30       -26506.682155        -8650.462946         17856.219210\n",
      "2017-07-31        75246.180919       -31570.323562       -106816.504481\n",
      "2017-08-31        26144.187871         4117.712334        -22026.475537\n",
      "2017-09-30        35700.999287           76.182316        -35624.816971\n",
      "2017-10-31        47834.128148        84587.750565         36753.622417\n",
      "2017-11-30        46831.730353        -2209.938011        -49041.668363\n",
      "2017-12-31        -6907.114295       135187.017121        142094.131416\n"
     ]
    }
   ],
   "execution_count": 68
  },
  {
   "metadata": {
    "ExecuteTime": {
     "end_time": "2025-04-23T08:49:44.754251Z",
     "start_time": "2025-04-23T08:49:44.746836Z"
    }
   },
   "cell_type": "code",
   "source": [
    "df = network.lines_t.p0[\"country - country3\"]\n",
    "df_positive = df[df>0]   # momentos en que COUNTRY exporta\n",
    "df_negative = df[df<0]   # momentos en que COUNTRY3 exporta\n",
    "print(df_positive)\n",
    "print(df_negative)"
   ],
   "outputs": [
    {
     "name": "stdout",
     "output_type": "stream",
     "text": [
      "snapshot\n",
      "2017-01-01 01:00:00     446.289354\n",
      "2017-01-01 02:00:00    1000.000000\n",
      "2017-01-01 03:00:00     446.289354\n",
      "2017-01-01 05:00:00     446.289354\n",
      "2017-01-01 07:00:00    1000.000000\n",
      "                          ...     \n",
      "2017-12-31 19:00:00     446.289354\n",
      "2017-12-31 20:00:00     990.727445\n",
      "2017-12-31 21:00:00    1000.000000\n",
      "2017-12-31 22:00:00    1000.000000\n",
      "2017-12-31 23:00:00    1000.000000\n",
      "Name: country - country3, Length: 4479, dtype: float64\n",
      "snapshot\n",
      "2017-01-01 00:00:00   -1000.000000\n",
      "2017-01-01 04:00:00   -1000.000000\n",
      "2017-01-01 06:00:00   -1000.000000\n",
      "2017-01-01 09:00:00    -500.070694\n",
      "2017-01-01 10:00:00   -1000.000000\n",
      "                          ...     \n",
      "2017-12-31 02:00:00   -1000.000000\n",
      "2017-12-31 03:00:00    -446.289354\n",
      "2017-12-31 04:00:00     -47.154692\n",
      "2017-12-31 17:00:00   -1000.000000\n",
      "2017-12-31 18:00:00    -446.289354\n",
      "Name: country - country3, Length: 4281, dtype: float64\n"
     ]
    }
   ],
   "execution_count": 69
  },
  {
   "metadata": {
    "ExecuteTime": {
     "end_time": "2025-04-23T08:49:44.812392Z",
     "start_time": "2025-04-23T08:49:44.807345Z"
    }
   },
   "cell_type": "code",
   "source": [
    "hourly = network.lines_t.p0[\"country2 - country3\"]\n",
    "cap    = network.lines.loc[\"country2 - country3\",\"s_nom\"]\n",
    "\n",
    "# Número de horas en que la línea estuvo saturada (en uno u otro sentido)\n",
    "saturadas = (hourly.abs() >= cap*0.9999).sum()\n",
    "print(f\"saturated hours per year: {saturadas} of {len(hourly)}\")\n"
   ],
   "outputs": [
    {
     "name": "stdout",
     "output_type": "stream",
     "text": [
      "saturated hours per year: 8760 of 8760\n"
     ]
    }
   ],
   "execution_count": 70
  },
  {
   "metadata": {
    "ExecuteTime": {
     "end_time": "2025-04-23T08:49:46.463188Z",
     "start_time": "2025-04-23T08:49:44.841182Z"
    }
   },
   "cell_type": "code",
   "source": [
    "# in your terminal\n",
    "!pip install cartopy"
   ],
   "outputs": [
    {
     "name": "stdout",
     "output_type": "stream",
     "text": [
      "Requirement already satisfied: cartopy in c:\\users\\nadia\\pycharmprojects\\new-integrated-project\\new-integrated-project\\.venv\\lib\\site-packages (0.24.1)\n",
      "Requirement already satisfied: numpy>=1.23 in c:\\users\\nadia\\pycharmprojects\\new-integrated-project\\new-integrated-project\\.venv\\lib\\site-packages (from cartopy) (2.2.4)\n",
      "Requirement already satisfied: matplotlib>=3.6 in c:\\users\\nadia\\pycharmprojects\\new-integrated-project\\new-integrated-project\\.venv\\lib\\site-packages (from cartopy) (3.10.1)\n",
      "Requirement already satisfied: shapely>=1.8 in c:\\users\\nadia\\pycharmprojects\\new-integrated-project\\new-integrated-project\\.venv\\lib\\site-packages (from cartopy) (2.0.7)\n",
      "Requirement already satisfied: packaging>=21 in c:\\users\\nadia\\pycharmprojects\\new-integrated-project\\new-integrated-project\\.venv\\lib\\site-packages (from cartopy) (24.2)\n",
      "Requirement already satisfied: pyshp>=2.3 in c:\\users\\nadia\\pycharmprojects\\new-integrated-project\\new-integrated-project\\.venv\\lib\\site-packages (from cartopy) (2.3.1)\n",
      "Requirement already satisfied: pyproj>=3.3.1 in c:\\users\\nadia\\pycharmprojects\\new-integrated-project\\new-integrated-project\\.venv\\lib\\site-packages (from cartopy) (3.7.1)\n",
      "Requirement already satisfied: contourpy>=1.0.1 in c:\\users\\nadia\\pycharmprojects\\new-integrated-project\\new-integrated-project\\.venv\\lib\\site-packages (from matplotlib>=3.6->cartopy) (1.3.1)\n",
      "Requirement already satisfied: cycler>=0.10 in c:\\users\\nadia\\pycharmprojects\\new-integrated-project\\new-integrated-project\\.venv\\lib\\site-packages (from matplotlib>=3.6->cartopy) (0.12.1)\n",
      "Requirement already satisfied: fonttools>=4.22.0 in c:\\users\\nadia\\pycharmprojects\\new-integrated-project\\new-integrated-project\\.venv\\lib\\site-packages (from matplotlib>=3.6->cartopy) (4.56.0)\n",
      "Requirement already satisfied: kiwisolver>=1.3.1 in c:\\users\\nadia\\pycharmprojects\\new-integrated-project\\new-integrated-project\\.venv\\lib\\site-packages (from matplotlib>=3.6->cartopy) (1.4.8)\n",
      "Requirement already satisfied: pillow>=8 in c:\\users\\nadia\\pycharmprojects\\new-integrated-project\\new-integrated-project\\.venv\\lib\\site-packages (from matplotlib>=3.6->cartopy) (11.1.0)\n",
      "Requirement already satisfied: pyparsing>=2.3.1 in c:\\users\\nadia\\pycharmprojects\\new-integrated-project\\new-integrated-project\\.venv\\lib\\site-packages (from matplotlib>=3.6->cartopy) (3.2.2)\n",
      "Requirement already satisfied: python-dateutil>=2.7 in c:\\users\\nadia\\pycharmprojects\\new-integrated-project\\new-integrated-project\\.venv\\lib\\site-packages (from matplotlib>=3.6->cartopy) (2.9.0.post0)\n",
      "Requirement already satisfied: certifi in c:\\users\\nadia\\pycharmprojects\\new-integrated-project\\new-integrated-project\\.venv\\lib\\site-packages (from pyproj>=3.3.1->cartopy) (2025.1.31)\n",
      "Requirement already satisfied: six>=1.5 in c:\\users\\nadia\\pycharmprojects\\new-integrated-project\\new-integrated-project\\.venv\\lib\\site-packages (from python-dateutil>=2.7->matplotlib>=3.6->cartopy) (1.17.0)\n"
     ]
    },
    {
     "name": "stderr",
     "output_type": "stream",
     "text": [
      "\n",
      "[notice] A new release of pip is available: 23.2.1 -> 25.0.1\n",
      "[notice] To update, run: python.exe -m pip install --upgrade pip\n"
     ]
    }
   ],
   "execution_count": 71
  },
  {
   "metadata": {
    "ExecuteTime": {
     "end_time": "2025-04-23T08:49:46.559366Z",
     "start_time": "2025-04-23T08:49:46.517645Z"
    }
   },
   "cell_type": "code",
   "source": [
    "import matplotlib.pyplot as plt\n",
    "import cartopy.crs as ccrs\n",
    "\n",
    "# 1) Coordenadas de tus tres nodos\n",
    "xs = {'NLD': 5.291266,\n",
    "      'DEU':10.451526,\n",
    "      'BEL': 4.469936}\n",
    "\n",
    "ys = {'NLD':52.132633,\n",
    "      'DEU':51.165691,\n",
    "      'BEL':50.503887}\n",
    "\n",
    "# 2) Definimos los enlaces que queremos trazar\n",
    "#    puedes cambiar o acotar la lista según necesites\n",
    "connections = [\n",
    "    ('NLD','DEU'),\n",
    "    ('NLD','BEL'),\n",
    "    ('DEU','BEL'),\n",
    "]\n",
    "\n",
    "# 3) Creamos la figura y el GeoAxes\n",
    "fig, ax = plt.subplots(\n",
    "    figsize=(10, 8),\n",
    "    subplot_kw={'projection': ccrs.PlateCarree()}\n",
    ")\n",
    "\n",
    "# 4) Primero dibujamos tu red (nodos) con PyPSA, si ya la tienes:\n",
    "network.plot(\n",
    "    ax=ax,\n",
    "    geomap=True,\n",
    "    bus_sizes=0.1,\n",
    "    margin=1\n",
    ")\n",
    "\n",
    "# 5) Ahora superponemos las líneas entre nodos\n",
    "for a, b in connections:\n",
    "    ax.plot(\n",
    "        [ xs[a],   xs[b] ],  # longitudes\n",
    "        [ ys[a],   ys[b] ],  # latitudes\n",
    "        transform=ccrs.PlateCarree(),\n",
    "        color='tab:blue',\n",
    "        linewidth=2,\n",
    "        linestyle='--',\n",
    "        alpha=0.8,\n",
    "    )\n",
    "\n",
    "# 6) (Opcional) Ajustar extent para centrar en Europa\n",
    "ax.set_extent([-10, 15, 45, 55], crs=ccrs.PlateCarree())\n",
    "\n",
    "plt.show()\n",
    "\n",
    "\n"
   ],
   "outputs": [
    {
     "name": "stderr",
     "output_type": "stream",
     "text": [
      "C:\\Users\\nadia\\PycharmProjects\\new-integrated-project\\new-integrated-project\\.venv\\Lib\\site-packages\\cartopy\\mpl\\feature_artist.py:144: UserWarning: facecolor will have no effect as it has been defined as \"never\".\n",
      "  warnings.warn('facecolor will have no effect as it has been '\n"
     ]
    },
    {
     "data": {
      "text/plain": [
       "<Figure size 1000x800 with 1 Axes>"
      ],
      "image/png": "[encoded data removed]"
     },
     "metadata": {},
     "output_type": "display_data"
    }
   ],
   "execution_count": 72
  },
  {
   "metadata": {
    "ExecuteTime": {
     "end_time": "2025-04-23T08:49:46.571966Z",
     "start_time": "2025-04-23T08:49:46.560564Z"
    }
   },
   "cell_type": "code",
   "source": [
    "\n",
    "import geopandas as gpd\n",
    "import matplotlib.pyplot as plt\n",
    "import pandas as pd\n",
    "from shapely.geometry import Point\n",
    "\n",
    "# Crear un DataFrame con las coordenadas\n",
    "nodes = pd.Series(['NLD', 'DEU', 'BEL']).values\n",
    "xs = {'NLD': 5.291266, 'DEU': 10.451526, 'BEL': 4.469936}\n",
    "ys = {'NLD': 52.132633, 'DEU': 51.165691, 'BEL': 50.503887}\n",
    "\n",
    "# Crear un DataFrame de puntos\n",
    "points = pd.DataFrame({\n",
    "    'Country': nodes,\n",
    "    'Longitude': [xs[node] for node in nodes],\n",
    "    'Latitude': [ys[node] for node in nodes],\n",
    "    #'Generation':generators, #I need to figure out how to add the generation capacities to the geographical plot\n",
    "})\n",
    "\n",
    "# Crear una geometría de puntos\n",
    "geometry = [Point(lon, lat) for lon, lat in zip(points['Longitude'], points['Latitude'])]\n",
    "\n",
    "# Crear un GeoDataFrame\n",
    "gdf = gpd.GeoDataFrame(points, geometry=geometry)\n",
    "\n"
   ],
   "outputs": [],
   "execution_count": 73
  },
  {
   "metadata": {
    "ExecuteTime": {
     "end_time": "2025-04-23T08:49:46.682416Z",
     "start_time": "2025-04-23T08:49:46.635550Z"
    }
   },
   "cell_type": "code",
   "source": [
    "\n",
    "# Cargar un shapefile de países\n",
    "world = gpd.read_file('C:/Users/nadia/OneDrive/Documentos/Integrated energy grids/DATA ASSIGMENT/ne_110m_admin_0_countries')\n",
    "europe = world[(world[\"CONTINENT\"] == \"Europe\") & (world[\"NAME\"] != \"Russia\")]\n",
    "europe.to_file(\"europe.geojson\", driver=\"GeoJSON\")"
   ],
   "outputs": [
    {
     "name": "stderr",
     "output_type": "stream",
     "text": [
      "INFO:pyogrio._io:Created 38 records\n"
     ]
    }
   ],
   "execution_count": 74
  },
  {
   "metadata": {
    "ExecuteTime": {
     "end_time": "2025-04-23T08:49:46.791601Z",
     "start_time": "2025-04-23T08:49:46.696575Z"
    }
   },
   "cell_type": "code",
   "source": [
    "fig, ax = plt.subplots(figsize=(10, 10))\n",
    "europe.plot(ax=ax, color='lightgrey')\n",
    "gdf.plot(ax=ax, color='red', markersize=50)\n",
    "ax.set_xlim([2, 16]) #longitude range\n",
    "ax.set_ylim([47, 56]) # latitude range\n",
    "\n",
    "plt.show()"
   ],
   "outputs": [
    {
     "data": {
      "text/plain": [
       "<Figure size 1000x1000 with 1 Axes>"
      ],
      "image/png": "[encoded data removed]"
     },
     "metadata": {},
     "output_type": "display_data"
    }
   ],
   "execution_count": 75
  },
  {
   "cell_type": "markdown",
   "metadata": {},
   "source": []
  },
  {
   "cell_type": "markdown",
   "metadata": {
    "id": "w0VEC7Rnlh-M"
   },
   "source": [
    "Print the generator Capacity factor time series to check that it has been properly added (you should see numbers and not 'NaN')"
   ]
  },
  {
   "cell_type": "code",
   "metadata": {
    "id": "2wrI9_Qilh-N",
    "outputId": "3f107f56-68b4-4954-f9e1-cd06b2e7a1aa",
    "ExecuteTime": {
     "end_time": "2025-04-23T08:49:46.860971Z",
     "start_time": "2025-04-23T08:49:46.849072Z"
    }
   },
   "source": [
    "network.generators_t.p_max_pu"
   ],
   "outputs": [
    {
     "data": {
      "text/plain": [
       "Generator            onshorewind_BEL  onshorewind_DEU  onshorewind_NDL  \\\n",
       "snapshot                                                                 \n",
       "2017-01-01 00:00:00            0.091            0.286            0.350   \n",
       "2017-01-01 01:00:00            0.147            0.301            0.377   \n",
       "2017-01-01 02:00:00            0.216            0.309            0.385   \n",
       "2017-01-01 03:00:00            0.223            0.321            0.400   \n",
       "2017-01-01 04:00:00            0.227            0.332            0.406   \n",
       "...                              ...              ...              ...   \n",
       "2017-12-31 19:00:00            0.716            0.477            0.468   \n",
       "2017-12-31 20:00:00            0.738            0.528            0.595   \n",
       "2017-12-31 21:00:00            0.737            0.571            0.684   \n",
       "2017-12-31 22:00:00            0.755            0.608            0.762   \n",
       "2017-12-31 23:00:00            0.774            0.635            0.827   \n",
       "\n",
       "Generator            solar_BEL  solar_DEU  solar_NDL  \n",
       "snapshot                                              \n",
       "2017-01-01 00:00:00        0.0        0.0        0.0  \n",
       "2017-01-01 01:00:00        0.0        0.0        0.0  \n",
       "2017-01-01 02:00:00        0.0        0.0        0.0  \n",
       "2017-01-01 03:00:00        0.0        0.0        0.0  \n",
       "2017-01-01 04:00:00        0.0        0.0        0.0  \n",
       "...                        ...        ...        ...  \n",
       "2017-12-31 19:00:00        0.0        0.0        0.0  \n",
       "2017-12-31 20:00:00        0.0        0.0        0.0  \n",
       "2017-12-31 21:00:00        0.0        0.0        0.0  \n",
       "2017-12-31 22:00:00        0.0        0.0        0.0  \n",
       "2017-12-31 23:00:00        0.0        0.0        0.0  \n",
       "\n",
       "[8760 rows x 6 columns]"
      ],
      "text/html": [
       "<div>\n",
       "<style scoped>\n",
       "    .dataframe tbody tr th:only-of-type {\n",
       "        vertical-align: middle;\n",
       "    }\n",
       "\n",
       "    .dataframe tbody tr th {\n",
       "        vertical-align: top;\n",
       "    }\n",
       "\n",
       "    .dataframe thead th {\n",
       "        text-align: right;\n",
       "    }\n",
       "</style>\n",
       "<table border=\"1\" class=\"dataframe\">\n",
       "  <thead>\n",
       "    <tr style=\"text-align: right;\">\n",
       "      <th>Generator</th>\n",
       "      <th>onshorewind_BEL</th>\n",
       "      <th>onshorewind_DEU</th>\n",
       "      <th>onshorewind_NDL</th>\n",
       "      <th>solar_BEL</th>\n",
       "      <th>solar_DEU</th>\n",
       "      <th>solar_NDL</th>\n",
       "    </tr>\n",
       "    <tr>\n",
       "      <th>snapshot</th>\n",
       "      <th></th>\n",
       "      <th></th>\n",
       "      <th></th>\n",
       "      <th></th>\n",
       "      <th></th>\n",
       "      <th></th>\n",
       "    </tr>\n",
       "  </thead>\n",
       "  <tbody>\n",
       "    <tr>\n",
       "      <th>2017-01-01 00:00:00</th>\n",
       "      <td>0.091</td>\n",
       "      <td>0.286</td>\n",
       "      <td>0.350</td>\n",
       "      <td>0.0</td>\n",
       "      <td>0.0</td>\n",
       "      <td>0.0</td>\n",
       "    </tr>\n",
       "    <tr>\n",
       "      <th>2017-01-01 01:00:00</th>\n",
       "      <td>0.147</td>\n",
       "      <td>0.301</td>\n",
       "      <td>0.377</td>\n",
       "      <td>0.0</td>\n",
       "      <td>0.0</td>\n",
       "      <td>0.0</td>\n",
       "    </tr>\n",
       "    <tr>\n",
       "      <th>2017-01-01 02:00:00</th>\n",
       "      <td>0.216</td>\n",
       "      <td>0.309</td>\n",
       "      <td>0.385</td>\n",
       "      <td>0.0</td>\n",
       "      <td>0.0</td>\n",
       "      <td>0.0</td>\n",
       "    </tr>\n",
       "    <tr>\n",
       "      <th>2017-01-01 03:00:00</th>\n",
       "      <td>0.223</td>\n",
       "      <td>0.321</td>\n",
       "      <td>0.400</td>\n",
       "      <td>0.0</td>\n",
       "      <td>0.0</td>\n",
       "      <td>0.0</td>\n",
       "    </tr>\n",
       "    <tr>\n",
       "      <th>2017-01-01 04:00:00</th>\n",
       "      <td>0.227</td>\n",
       "      <td>0.332</td>\n",
       "      <td>0.406</td>\n",
       "      <td>0.0</td>\n",
       "      <td>0.0</td>\n",
       "      <td>0.0</td>\n",
       "    </tr>\n",
       "    <tr>\n",
       "      <th>...</th>\n",
       "      <td>...</td>\n",
       "      <td>...</td>\n",
       "      <td>...</td>\n",
       "      <td>...</td>\n",
       "      <td>...</td>\n",
       "      <td>...</td>\n",
       "    </tr>\n",
       "    <tr>\n",
       "      <th>2017-12-31 19:00:00</th>\n",
       "      <td>0.716</td>\n",
       "      <td>0.477</td>\n",
       "      <td>0.468</td>\n",
       "      <td>0.0</td>\n",
       "      <td>0.0</td>\n",
       "      <td>0.0</td>\n",
       "    </tr>\n",
       "    <tr>\n",
       "      <th>2017-12-31 20:00:00</th>\n",
       "      <td>0.738</td>\n",
       "      <td>0.528</td>\n",
       "      <td>0.595</td>\n",
       "      <td>0.0</td>\n",
       "      <td>0.0</td>\n",
       "      <td>0.0</td>\n",
       "    </tr>\n",
       "    <tr>\n",
       "      <th>2017-12-31 21:00:00</th>\n",
       "      <td>0.737</td>\n",
       "      <td>0.571</td>\n",
       "      <td>0.684</td>\n",
       "      <td>0.0</td>\n",
       "      <td>0.0</td>\n",
       "      <td>0.0</td>\n",
       "    </tr>\n",
       "    <tr>\n",
       "      <th>2017-12-31 22:00:00</th>\n",
       "      <td>0.755</td>\n",
       "      <td>0.608</td>\n",
       "      <td>0.762</td>\n",
       "      <td>0.0</td>\n",
       "      <td>0.0</td>\n",
       "      <td>0.0</td>\n",
       "    </tr>\n",
       "    <tr>\n",
       "      <th>2017-12-31 23:00:00</th>\n",
       "      <td>0.774</td>\n",
       "      <td>0.635</td>\n",
       "      <td>0.827</td>\n",
       "      <td>0.0</td>\n",
       "      <td>0.0</td>\n",
       "      <td>0.0</td>\n",
       "    </tr>\n",
       "  </tbody>\n",
       "</table>\n",
       "<p>8760 rows × 6 columns</p>\n",
       "</div>"
      ]
     },
     "execution_count": 76,
     "metadata": {},
     "output_type": "execute_result"
    }
   ],
   "execution_count": 76
  },
  {
   "cell_type": "markdown",
   "metadata": {
    "id": "YJvZ8WiNlh-O"
   },
   "source": [
    "We find the optimal solution using Gurobi as solver.\n",
    "\n",
    "In this case, we are optimizing the installed capacity and dispatch of every generator to minimize the total system cost."
   ]
  },
  {
   "cell_type": "markdown",
   "metadata": {
    "id": "Hkzx4fkjlh-P"
   },
   "source": [
    "The message ('ok' , 'optimal\") indicates that the optimizer has found an optimal solution.\n",
    "\n",
    "The total cost can be read from the network objetive."
   ]
  },
  {
   "cell_type": "code",
   "metadata": {
    "id": "SLFyZH-Tlh-P",
    "outputId": "43bf601b-1034-4c2f-f5e5-82b8837fc5ca",
    "ExecuteTime": {
     "end_time": "2025-04-23T08:49:46.891271Z",
     "start_time": "2025-04-23T08:49:46.887160Z"
    }
   },
   "source": [
    "print(network.objective/1000000) #in 10^6 €"
   ],
   "outputs": [
    {
     "name": "stdout",
     "output_type": "stream",
     "text": [
      "38671.229929618654\n"
     ]
    }
   ],
   "execution_count": 77
  },
  {
   "cell_type": "markdown",
   "metadata": {
    "id": "mZyD9mRYlh-Q"
   },
   "source": [
    "The cost per MWh of electricity produced can also be calculated."
   ]
  },
  {
   "cell_type": "code",
   "metadata": {
    "id": "oq970foLlh-R",
    "outputId": "794a0680-1c6b-4a41-9165-77e3898b136b",
    "ExecuteTime": {
     "end_time": "2025-04-23T08:49:46.925702Z",
     "start_time": "2025-04-23T08:49:46.920445Z"
    }
   },
   "source": [
    "print(network.objective/network.loads_t.p.sum()) # EUR/MWh"
   ],
   "outputs": [
    {
     "name": "stdout",
     "output_type": "stream",
     "text": [
      "Load\n",
      "load NDL    341.468185\n",
      "load GER     76.536596\n",
      "load BEL    453.775866\n",
      "dtype: float64\n"
     ]
    }
   ],
   "execution_count": 78
  },
  {
   "cell_type": "markdown",
   "metadata": {
    "id": "n4zrHT7Elh-S"
   },
   "source": [
    "The optimal capacity for every generator can be shown."
   ]
  },
  {
   "cell_type": "code",
   "metadata": {
    "id": "nIsovYgRlh-S",
    "outputId": "c4632c54-2583-4d5b-a9da-80a6521efbdb",
    "ExecuteTime": {
     "end_time": "2025-04-23T08:49:46.988549Z",
     "start_time": "2025-04-23T08:49:46.975797Z"
    }
   },
   "source": [
    "network.generators.p_nom_opt # in MW"
   ],
   "outputs": [
    {
     "data": {
      "text/plain": [
       "Generator\n",
       "onshorewind_NDL    20369.046731\n",
       "onshorewind_DEU    92659.831706\n",
       "onshorewind_BEL     7483.613133\n",
       "solar_NDL          17021.616865\n",
       "solar_DEU          85720.100945\n",
       "solar_BEL          19500.126469\n",
       "OCGT_NDL           17502.181617\n",
       "OCGT_DEU           71148.419870\n",
       "OCGT_BEL           15876.847304\n",
       "Name: p_nom_opt, dtype: float64"
      ]
     },
     "execution_count": 79,
     "metadata": {},
     "output_type": "execute_result"
    }
   ],
   "execution_count": 79
  },
  {
   "cell_type": "markdown",
   "metadata": {
    "id": "vdgNfoYelh-T"
   },
   "source": [
    "We can plot now the dispatch of every generator during the first week of the year and the electricity demand.\n",
    "We import the matplotlib package which is very useful to plot results.\n",
    "\n",
    "We can also plot the electricity mix."
   ]
  },
  {
   "cell_type": "code",
   "metadata": {
    "id": "ykyhFIzzlh-U",
    "outputId": "4f0717ca-f968-4405-c707-0f55a0d97175",
    "ExecuteTime": {
     "end_time": "2025-04-23T08:49:47.098585Z",
     "start_time": "2025-04-23T08:49:47.038020Z"
    }
   },
   "source": [
    "import matplotlib.pyplot as plt\n",
    "\n",
    "plt.plot(network.loads_t.p['load'][0:96], color='black', label='demand')\n",
    "plt.plot(network.generators_t.p['onshorewind'][0:96], color='blue', label='onshore wind')\n",
    "plt.plot(network.generators_t.p['solar'][0:96], color='orange', label='solar')\n",
    "plt.plot(network.generators_t.p['OCGT'][0:96], color='brown', label='gas (OCGT)')\n",
    "plt.legend(fancybox=True, shadow=True, loc='best')"
   ],
   "outputs": [
    {
     "ename": "KeyError",
     "evalue": "'load'",
     "output_type": "error",
     "traceback": [
      "\u001B[31m---------------------------------------------------------------------------\u001B[39m",
      "\u001B[31mKeyError\u001B[39m                                  Traceback (most recent call last)",
      "\u001B[36mFile \u001B[39m\u001B[32m~\\PycharmProjects\\new-integrated-project\\new-integrated-project\\.venv\\Lib\\site-packages\\pandas\\core\\indexes\\base.py:3805\u001B[39m, in \u001B[36mIndex.get_loc\u001B[39m\u001B[34m(self, key)\u001B[39m\n\u001B[32m   3804\u001B[39m \u001B[38;5;28;01mtry\u001B[39;00m:\n\u001B[32m-> \u001B[39m\u001B[32m3805\u001B[39m     \u001B[38;5;28;01mreturn\u001B[39;00m \u001B[38;5;28;43mself\u001B[39;49m\u001B[43m.\u001B[49m\u001B[43m_engine\u001B[49m\u001B[43m.\u001B[49m\u001B[43mget_loc\u001B[49m\u001B[43m(\u001B[49m\u001B[43mcasted_key\u001B[49m\u001B[43m)\u001B[49m\n\u001B[32m   3806\u001B[39m \u001B[38;5;28;01mexcept\u001B[39;00m \u001B[38;5;167;01mKeyError\u001B[39;00m \u001B[38;5;28;01mas\u001B[39;00m err:\n",
      "\u001B[36mFile \u001B[39m\u001B[32mindex.pyx:167\u001B[39m, in \u001B[36mpandas._libs.index.IndexEngine.get_loc\u001B[39m\u001B[34m()\u001B[39m\n",
      "\u001B[36mFile \u001B[39m\u001B[32mindex.pyx:196\u001B[39m, in \u001B[36mpandas._libs.index.IndexEngine.get_loc\u001B[39m\u001B[34m()\u001B[39m\n",
      "\u001B[36mFile \u001B[39m\u001B[32mpandas\\\\_libs\\\\hashtable_class_helper.pxi:7081\u001B[39m, in \u001B[36mpandas._libs.hashtable.PyObjectHashTable.get_item\u001B[39m\u001B[34m()\u001B[39m\n",
      "\u001B[36mFile \u001B[39m\u001B[32mpandas\\\\_libs\\\\hashtable_class_helper.pxi:7089\u001B[39m, in \u001B[36mpandas._libs.hashtable.PyObjectHashTable.get_item\u001B[39m\u001B[34m()\u001B[39m\n",
      "\u001B[31mKeyError\u001B[39m: 'load'",
      "\nThe above exception was the direct cause of the following exception:\n",
      "\u001B[31mKeyError\u001B[39m                                  Traceback (most recent call last)",
      "\u001B[36mCell\u001B[39m\u001B[36m \u001B[39m\u001B[32mIn[80]\u001B[39m\u001B[32m, line 3\u001B[39m\n\u001B[32m      1\u001B[39m \u001B[38;5;28;01mimport\u001B[39;00m\u001B[38;5;250m \u001B[39m\u001B[34;01mmatplotlib\u001B[39;00m\u001B[34;01m.\u001B[39;00m\u001B[34;01mpyplot\u001B[39;00m\u001B[38;5;250m \u001B[39m\u001B[38;5;28;01mas\u001B[39;00m\u001B[38;5;250m \u001B[39m\u001B[34;01mplt\u001B[39;00m\n\u001B[32m----> \u001B[39m\u001B[32m3\u001B[39m plt.plot(\u001B[43mnetwork\u001B[49m\u001B[43m.\u001B[49m\u001B[43mloads_t\u001B[49m\u001B[43m.\u001B[49m\u001B[43mp\u001B[49m\u001B[43m[\u001B[49m\u001B[33;43m'\u001B[39;49m\u001B[33;43mload\u001B[39;49m\u001B[33;43m'\u001B[39;49m\u001B[43m]\u001B[49m[\u001B[32m0\u001B[39m:\u001B[32m96\u001B[39m], color=\u001B[33m'\u001B[39m\u001B[33mblack\u001B[39m\u001B[33m'\u001B[39m, label=\u001B[33m'\u001B[39m\u001B[33mdemand\u001B[39m\u001B[33m'\u001B[39m)\n\u001B[32m      4\u001B[39m plt.plot(network.generators_t.p[\u001B[33m'\u001B[39m\u001B[33monshorewind\u001B[39m\u001B[33m'\u001B[39m][\u001B[32m0\u001B[39m:\u001B[32m96\u001B[39m], color=\u001B[33m'\u001B[39m\u001B[33mblue\u001B[39m\u001B[33m'\u001B[39m, label=\u001B[33m'\u001B[39m\u001B[33monshore wind\u001B[39m\u001B[33m'\u001B[39m)\n\u001B[32m      5\u001B[39m plt.plot(network.generators_t.p[\u001B[33m'\u001B[39m\u001B[33msolar\u001B[39m\u001B[33m'\u001B[39m][\u001B[32m0\u001B[39m:\u001B[32m96\u001B[39m], color=\u001B[33m'\u001B[39m\u001B[33morange\u001B[39m\u001B[33m'\u001B[39m, label=\u001B[33m'\u001B[39m\u001B[33msolar\u001B[39m\u001B[33m'\u001B[39m)\n",
      "\u001B[36mFile \u001B[39m\u001B[32m~\\PycharmProjects\\new-integrated-project\\new-integrated-project\\.venv\\Lib\\site-packages\\pandas\\core\\frame.py:4102\u001B[39m, in \u001B[36mDataFrame.__getitem__\u001B[39m\u001B[34m(self, key)\u001B[39m\n\u001B[32m   4100\u001B[39m \u001B[38;5;28;01mif\u001B[39;00m \u001B[38;5;28mself\u001B[39m.columns.nlevels > \u001B[32m1\u001B[39m:\n\u001B[32m   4101\u001B[39m     \u001B[38;5;28;01mreturn\u001B[39;00m \u001B[38;5;28mself\u001B[39m._getitem_multilevel(key)\n\u001B[32m-> \u001B[39m\u001B[32m4102\u001B[39m indexer = \u001B[38;5;28;43mself\u001B[39;49m\u001B[43m.\u001B[49m\u001B[43mcolumns\u001B[49m\u001B[43m.\u001B[49m\u001B[43mget_loc\u001B[49m\u001B[43m(\u001B[49m\u001B[43mkey\u001B[49m\u001B[43m)\u001B[49m\n\u001B[32m   4103\u001B[39m \u001B[38;5;28;01mif\u001B[39;00m is_integer(indexer):\n\u001B[32m   4104\u001B[39m     indexer = [indexer]\n",
      "\u001B[36mFile \u001B[39m\u001B[32m~\\PycharmProjects\\new-integrated-project\\new-integrated-project\\.venv\\Lib\\site-packages\\pandas\\core\\indexes\\base.py:3812\u001B[39m, in \u001B[36mIndex.get_loc\u001B[39m\u001B[34m(self, key)\u001B[39m\n\u001B[32m   3807\u001B[39m     \u001B[38;5;28;01mif\u001B[39;00m \u001B[38;5;28misinstance\u001B[39m(casted_key, \u001B[38;5;28mslice\u001B[39m) \u001B[38;5;129;01mor\u001B[39;00m (\n\u001B[32m   3808\u001B[39m         \u001B[38;5;28misinstance\u001B[39m(casted_key, abc.Iterable)\n\u001B[32m   3809\u001B[39m         \u001B[38;5;129;01mand\u001B[39;00m \u001B[38;5;28many\u001B[39m(\u001B[38;5;28misinstance\u001B[39m(x, \u001B[38;5;28mslice\u001B[39m) \u001B[38;5;28;01mfor\u001B[39;00m x \u001B[38;5;129;01min\u001B[39;00m casted_key)\n\u001B[32m   3810\u001B[39m     ):\n\u001B[32m   3811\u001B[39m         \u001B[38;5;28;01mraise\u001B[39;00m InvalidIndexError(key)\n\u001B[32m-> \u001B[39m\u001B[32m3812\u001B[39m     \u001B[38;5;28;01mraise\u001B[39;00m \u001B[38;5;167;01mKeyError\u001B[39;00m(key) \u001B[38;5;28;01mfrom\u001B[39;00m\u001B[38;5;250m \u001B[39m\u001B[34;01merr\u001B[39;00m\n\u001B[32m   3813\u001B[39m \u001B[38;5;28;01mexcept\u001B[39;00m \u001B[38;5;167;01mTypeError\u001B[39;00m:\n\u001B[32m   3814\u001B[39m     \u001B[38;5;66;03m# If we have a listlike key, _check_indexing_error will raise\u001B[39;00m\n\u001B[32m   3815\u001B[39m     \u001B[38;5;66;03m#  InvalidIndexError. Otherwise we fall through and re-raise\u001B[39;00m\n\u001B[32m   3816\u001B[39m     \u001B[38;5;66;03m#  the TypeError.\u001B[39;00m\n\u001B[32m   3817\u001B[39m     \u001B[38;5;28mself\u001B[39m._check_indexing_error(key)\n",
      "\u001B[31mKeyError\u001B[39m: 'load'"
     ]
    }
   ],
   "execution_count": 80
  },
  {
   "cell_type": "code",
   "metadata": {
    "id": "bHDt1K65lh-V",
    "outputId": "3841ada1-21bb-4253-d17e-31c80a641809",
    "ExecuteTime": {
     "end_time": "2025-04-23T08:49:47.112845400Z",
     "start_time": "2025-04-02T08:51:05.039759Z"
    }
   },
   "source": [
    "labels = ['onshore wind',\n",
    "          'solar',\n",
    "          'gas (OCGT)']\n",
    "sizes = [network.generators_t.p['onshorewind'].sum(),\n",
    "         network.generators_t.p['solar'].sum(),\n",
    "         network.generators_t.p['OCGT'].sum()]\n",
    "\n",
    "colors=['blue', 'orange', 'brown']\n",
    "\n",
    "plt.pie(sizes,\n",
    "        colors=colors,\n",
    "        labels=labels,\n",
    "        wedgeprops={'linewidth':0})\n",
    "plt.axis('equal')\n",
    "\n",
    "plt.title('Electricity mix', y=1.07)"
   ],
   "outputs": [
    {
     "data": {
      "text/plain": [
       "Text(0.5, 1.07, 'Electricity mix')"
      ]
     },
     "execution_count": 27,
     "metadata": {},
     "output_type": "execute_result"
    },
    {
     "data": {
      "text/plain": [
       "<Figure size 640x480 with 1 Axes>"
      ],
      "image/png": "[encoded data removed]"
     },
     "metadata": {},
     "output_type": "display_data"
    }
   ],
   "execution_count": 27
  },
  {
   "cell_type": "code",
   "metadata": {
    "ExecuteTime": {
     "end_time": "2025-04-23T08:49:47.128476100Z",
     "start_time": "2025-04-02T08:51:05.127871Z"
    }
   },
   "source": [
    "\n",
    "# Define time ranges for summer and winter (assuming hourly data for a full year)\n",
    "summer_week = pd.date_range(\"2005-07-01\", periods=168, freq=\"h\")\n",
    "winter_week = pd.date_range(\"2005-01-01\", periods=168, freq=\"h\")\n",
    "\n",
    "# Extract generation data for summer and winter weeks\n",
    "dispatch_summer = network.generators_t.p.loc[summer_week]\n",
    "dispatch_winter = network.generators_t.p.loc[winter_week]\n",
    "\n",
    "# Plot summer dispatch\n",
    "plt.figure(figsize=(12, 5))\n",
    "plt.stackplot(dispatch_summer.index,\n",
    "              dispatch_summer[\"onshorewind\"],\n",
    "              dispatch_summer[\"solar\"],\n",
    "              dispatch_summer[\"OCGT\"],\n",
    "              labels=[\"Onshore Wind\", \"Solar\", \"Gas (OCGT)\"],\n",
    "              colors=[\"blue\", \"orange\", \"brown\"], alpha=0.7)\n",
    "plt.plot(network.loads_t.p.loc[summer_week, 'load'], color='black', linestyle='-', linewidth=2, label='Demand')\n",
    "plt.title(\"Energy Dispatch - Summer Week\")\n",
    "plt.xlabel(\"Date\")\n",
    "plt.ylabel(\"Power (MW)\")\n",
    "plt.legend(loc=\"upper left\")\n",
    "plt.grid(True)\n",
    "plt.xticks(rotation=45)\n",
    "plt.tight_layout()\n",
    "plt.show()\n",
    "\n",
    "# Plot winter dispatch\n",
    "plt.figure(figsize=(12, 5))\n",
    "plt.stackplot(dispatch_winter.index,\n",
    "              dispatch_winter[\"onshorewind\"],\n",
    "              dispatch_winter[\"solar\"],\n",
    "              dispatch_winter[\"OCGT\"],\n",
    "              labels=[\"Onshore Wind\", \"Solar\", \"Gas (OCGT)\"],\n",
    "              colors=[\"blue\", \"orange\", \"brown\"], alpha=0.7)\n",
    "plt.plot(network.loads_t.p.loc[winter_week, 'load'], color='black', linestyle='-', linewidth=2, label='Demand')\n",
    "plt.title(\"Energy Dispatch - Winter Week\")\n",
    "plt.xlabel(\"Date\")\n",
    "plt.ylabel(\"Power (MW)\")\n",
    "plt.legend(loc=\"upper left\")\n",
    "plt.grid(True)\n",
    "plt.xticks(rotation=45)\n",
    "plt.tight_layout()\n",
    "plt.show()\n"
   ],
   "outputs": [
    {
     "ename": "KeyError",
     "evalue": "\"None of [DatetimeIndex(['2005-07-01 00:00:00', '2005-07-01 01:00:00',\\n               '2005-07-01 02:00:00', '2005-07-01 03:00:00',\\n               '2005-07-01 04:00:00', '2005-07-01 05:00:00',\\n               '2005-07-01 06:00:00', '2005-07-01 07:00:00',\\n               '2005-07-01 08:00:00', '2005-07-01 09:00:00',\\n               ...\\n               '2005-07-07 14:00:00', '2005-07-07 15:00:00',\\n               '2005-07-07 16:00:00', '2005-07-07 17:00:00',\\n               '2005-07-07 18:00:00', '2005-07-07 19:00:00',\\n               '2005-07-07 20:00:00', '2005-07-07 21:00:00',\\n               '2005-07-07 22:00:00', '2005-07-07 23:00:00'],\\n              dtype='datetime64[ns]', length=168, freq='h')] are in the [index]\"",
     "output_type": "error",
     "traceback": [
      "\u001B[31m---------------------------------------------------------------------------\u001B[39m",
      "\u001B[31mKeyError\u001B[39m                                  Traceback (most recent call last)",
      "\u001B[36mCell\u001B[39m\u001B[36m \u001B[39m\u001B[32mIn[28]\u001B[39m\u001B[32m, line 6\u001B[39m\n\u001B[32m      3\u001B[39m winter_week = pd.date_range(\u001B[33m\"\u001B[39m\u001B[33m2005-01-01\u001B[39m\u001B[33m\"\u001B[39m, periods=\u001B[32m168\u001B[39m, freq=\u001B[33m\"\u001B[39m\u001B[33mh\u001B[39m\u001B[33m\"\u001B[39m)\n\u001B[32m      5\u001B[39m \u001B[38;5;66;03m# Extract generation data for summer and winter weeks\u001B[39;00m\n\u001B[32m----> \u001B[39m\u001B[32m6\u001B[39m dispatch_summer = \u001B[43mnetwork\u001B[49m\u001B[43m.\u001B[49m\u001B[43mgenerators_t\u001B[49m\u001B[43m.\u001B[49m\u001B[43mp\u001B[49m\u001B[43m.\u001B[49m\u001B[43mloc\u001B[49m\u001B[43m[\u001B[49m\u001B[43msummer_week\u001B[49m\u001B[43m]\u001B[49m\n\u001B[32m      7\u001B[39m dispatch_winter = network.generators_t.p.loc[winter_week]\n\u001B[32m      9\u001B[39m \u001B[38;5;66;03m# Plot summer dispatch\u001B[39;00m\n",
      "\u001B[36mFile \u001B[39m\u001B[32m~\\PycharmProjects\\new-integrated-project\\new-integrated-project\\.venv\\Lib\\site-packages\\pandas\\core\\indexing.py:1191\u001B[39m, in \u001B[36m_LocationIndexer.__getitem__\u001B[39m\u001B[34m(self, key)\u001B[39m\n\u001B[32m   1189\u001B[39m maybe_callable = com.apply_if_callable(key, \u001B[38;5;28mself\u001B[39m.obj)\n\u001B[32m   1190\u001B[39m maybe_callable = \u001B[38;5;28mself\u001B[39m._check_deprecated_callable_usage(key, maybe_callable)\n\u001B[32m-> \u001B[39m\u001B[32m1191\u001B[39m \u001B[38;5;28;01mreturn\u001B[39;00m \u001B[38;5;28;43mself\u001B[39;49m\u001B[43m.\u001B[49m\u001B[43m_getitem_axis\u001B[49m\u001B[43m(\u001B[49m\u001B[43mmaybe_callable\u001B[49m\u001B[43m,\u001B[49m\u001B[43m \u001B[49m\u001B[43maxis\u001B[49m\u001B[43m=\u001B[49m\u001B[43maxis\u001B[49m\u001B[43m)\u001B[49m\n",
      "\u001B[36mFile \u001B[39m\u001B[32m~\\PycharmProjects\\new-integrated-project\\new-integrated-project\\.venv\\Lib\\site-packages\\pandas\\core\\indexing.py:1420\u001B[39m, in \u001B[36m_LocIndexer._getitem_axis\u001B[39m\u001B[34m(self, key, axis)\u001B[39m\n\u001B[32m   1417\u001B[39m     \u001B[38;5;28;01mif\u001B[39;00m \u001B[38;5;28mhasattr\u001B[39m(key, \u001B[33m\"\u001B[39m\u001B[33mndim\u001B[39m\u001B[33m\"\u001B[39m) \u001B[38;5;129;01mand\u001B[39;00m key.ndim > \u001B[32m1\u001B[39m:\n\u001B[32m   1418\u001B[39m         \u001B[38;5;28;01mraise\u001B[39;00m \u001B[38;5;167;01mValueError\u001B[39;00m(\u001B[33m\"\u001B[39m\u001B[33mCannot index with multidimensional key\u001B[39m\u001B[33m\"\u001B[39m)\n\u001B[32m-> \u001B[39m\u001B[32m1420\u001B[39m     \u001B[38;5;28;01mreturn\u001B[39;00m \u001B[38;5;28;43mself\u001B[39;49m\u001B[43m.\u001B[49m\u001B[43m_getitem_iterable\u001B[49m\u001B[43m(\u001B[49m\u001B[43mkey\u001B[49m\u001B[43m,\u001B[49m\u001B[43m \u001B[49m\u001B[43maxis\u001B[49m\u001B[43m=\u001B[49m\u001B[43maxis\u001B[49m\u001B[43m)\u001B[49m\n\u001B[32m   1422\u001B[39m \u001B[38;5;66;03m# nested tuple slicing\u001B[39;00m\n\u001B[32m   1423\u001B[39m \u001B[38;5;28;01mif\u001B[39;00m is_nested_tuple(key, labels):\n",
      "\u001B[36mFile \u001B[39m\u001B[32m~\\PycharmProjects\\new-integrated-project\\new-integrated-project\\.venv\\Lib\\site-packages\\pandas\\core\\indexing.py:1360\u001B[39m, in \u001B[36m_LocIndexer._getitem_iterable\u001B[39m\u001B[34m(self, key, axis)\u001B[39m\n\u001B[32m   1357\u001B[39m \u001B[38;5;28mself\u001B[39m._validate_key(key, axis)\n\u001B[32m   1359\u001B[39m \u001B[38;5;66;03m# A collection of keys\u001B[39;00m\n\u001B[32m-> \u001B[39m\u001B[32m1360\u001B[39m keyarr, indexer = \u001B[38;5;28;43mself\u001B[39;49m\u001B[43m.\u001B[49m\u001B[43m_get_listlike_indexer\u001B[49m\u001B[43m(\u001B[49m\u001B[43mkey\u001B[49m\u001B[43m,\u001B[49m\u001B[43m \u001B[49m\u001B[43maxis\u001B[49m\u001B[43m)\u001B[49m\n\u001B[32m   1361\u001B[39m \u001B[38;5;28;01mreturn\u001B[39;00m \u001B[38;5;28mself\u001B[39m.obj._reindex_with_indexers(\n\u001B[32m   1362\u001B[39m     {axis: [keyarr, indexer]}, copy=\u001B[38;5;28;01mTrue\u001B[39;00m, allow_dups=\u001B[38;5;28;01mTrue\u001B[39;00m\n\u001B[32m   1363\u001B[39m )\n",
      "\u001B[36mFile \u001B[39m\u001B[32m~\\PycharmProjects\\new-integrated-project\\new-integrated-project\\.venv\\Lib\\site-packages\\pandas\\core\\indexing.py:1558\u001B[39m, in \u001B[36m_LocIndexer._get_listlike_indexer\u001B[39m\u001B[34m(self, key, axis)\u001B[39m\n\u001B[32m   1555\u001B[39m ax = \u001B[38;5;28mself\u001B[39m.obj._get_axis(axis)\n\u001B[32m   1556\u001B[39m axis_name = \u001B[38;5;28mself\u001B[39m.obj._get_axis_name(axis)\n\u001B[32m-> \u001B[39m\u001B[32m1558\u001B[39m keyarr, indexer = \u001B[43max\u001B[49m\u001B[43m.\u001B[49m\u001B[43m_get_indexer_strict\u001B[49m\u001B[43m(\u001B[49m\u001B[43mkey\u001B[49m\u001B[43m,\u001B[49m\u001B[43m \u001B[49m\u001B[43maxis_name\u001B[49m\u001B[43m)\u001B[49m\n\u001B[32m   1560\u001B[39m \u001B[38;5;28;01mreturn\u001B[39;00m keyarr, indexer\n",
      "\u001B[36mFile \u001B[39m\u001B[32m~\\PycharmProjects\\new-integrated-project\\new-integrated-project\\.venv\\Lib\\site-packages\\pandas\\core\\indexes\\base.py:6200\u001B[39m, in \u001B[36mIndex._get_indexer_strict\u001B[39m\u001B[34m(self, key, axis_name)\u001B[39m\n\u001B[32m   6197\u001B[39m \u001B[38;5;28;01melse\u001B[39;00m:\n\u001B[32m   6198\u001B[39m     keyarr, indexer, new_indexer = \u001B[38;5;28mself\u001B[39m._reindex_non_unique(keyarr)\n\u001B[32m-> \u001B[39m\u001B[32m6200\u001B[39m \u001B[38;5;28;43mself\u001B[39;49m\u001B[43m.\u001B[49m\u001B[43m_raise_if_missing\u001B[49m\u001B[43m(\u001B[49m\u001B[43mkeyarr\u001B[49m\u001B[43m,\u001B[49m\u001B[43m \u001B[49m\u001B[43mindexer\u001B[49m\u001B[43m,\u001B[49m\u001B[43m \u001B[49m\u001B[43maxis_name\u001B[49m\u001B[43m)\u001B[49m\n\u001B[32m   6202\u001B[39m keyarr = \u001B[38;5;28mself\u001B[39m.take(indexer)\n\u001B[32m   6203\u001B[39m \u001B[38;5;28;01mif\u001B[39;00m \u001B[38;5;28misinstance\u001B[39m(key, Index):\n\u001B[32m   6204\u001B[39m     \u001B[38;5;66;03m# GH 42790 - Preserve name from an Index\u001B[39;00m\n",
      "\u001B[36mFile \u001B[39m\u001B[32m~\\PycharmProjects\\new-integrated-project\\new-integrated-project\\.venv\\Lib\\site-packages\\pandas\\core\\indexes\\base.py:6249\u001B[39m, in \u001B[36mIndex._raise_if_missing\u001B[39m\u001B[34m(self, key, indexer, axis_name)\u001B[39m\n\u001B[32m   6247\u001B[39m \u001B[38;5;28;01mif\u001B[39;00m nmissing:\n\u001B[32m   6248\u001B[39m     \u001B[38;5;28;01mif\u001B[39;00m nmissing == \u001B[38;5;28mlen\u001B[39m(indexer):\n\u001B[32m-> \u001B[39m\u001B[32m6249\u001B[39m         \u001B[38;5;28;01mraise\u001B[39;00m \u001B[38;5;167;01mKeyError\u001B[39;00m(\u001B[33mf\u001B[39m\u001B[33m\"\u001B[39m\u001B[33mNone of [\u001B[39m\u001B[38;5;132;01m{\u001B[39;00mkey\u001B[38;5;132;01m}\u001B[39;00m\u001B[33m] are in the [\u001B[39m\u001B[38;5;132;01m{\u001B[39;00maxis_name\u001B[38;5;132;01m}\u001B[39;00m\u001B[33m]\u001B[39m\u001B[33m\"\u001B[39m)\n\u001B[32m   6251\u001B[39m     not_found = \u001B[38;5;28mlist\u001B[39m(ensure_index(key)[missing_mask.nonzero()[\u001B[32m0\u001B[39m]].unique())\n\u001B[32m   6252\u001B[39m     \u001B[38;5;28;01mraise\u001B[39;00m \u001B[38;5;167;01mKeyError\u001B[39;00m(\u001B[33mf\u001B[39m\u001B[33m\"\u001B[39m\u001B[38;5;132;01m{\u001B[39;00mnot_found\u001B[38;5;132;01m}\u001B[39;00m\u001B[33m not in index\u001B[39m\u001B[33m\"\u001B[39m)\n",
      "\u001B[31mKeyError\u001B[39m: \"None of [DatetimeIndex(['2005-07-01 00:00:00', '2005-07-01 01:00:00',\\n               '2005-07-01 02:00:00', '2005-07-01 03:00:00',\\n               '2005-07-01 04:00:00', '2005-07-01 05:00:00',\\n               '2005-07-01 06:00:00', '2005-07-01 07:00:00',\\n               '2005-07-01 08:00:00', '2005-07-01 09:00:00',\\n               ...\\n               '2005-07-07 14:00:00', '2005-07-07 15:00:00',\\n               '2005-07-07 16:00:00', '2005-07-07 17:00:00',\\n               '2005-07-07 18:00:00', '2005-07-07 19:00:00',\\n               '2005-07-07 20:00:00', '2005-07-07 21:00:00',\\n               '2005-07-07 22:00:00', '2005-07-07 23:00:00'],\\n              dtype='datetime64[ns]', length=168, freq='h')] are in the [index]\""
     ]
    }
   ],
   "execution_count": 28
  },
  {
   "cell_type": "markdown",
   "metadata": {
    "id": "GWG3GAgWlh-V"
   },
   "source": [
    "We can add a global CO2 constraint and solve again."
   ]
  },
  {
   "cell_type": "code",
   "execution_count": null,
   "metadata": {
    "ExecuteTime": {
     "end_time": "2025-04-23T08:49:47.131082300Z",
     "start_time": "2025-03-07T13:59:38.849258Z"
    },
    "id": "6UWANALtlh-W"
   },
   "outputs": [
    {
     "name": "stderr",
     "output_type": "stream",
     "text": [
      "WARNING:pypsa.consistency:The following buses have carriers which are not defined:\n",
      "Index(['electricity bus'], dtype='object', name='Bus')\n",
      "INFO:linopy.model: Solve problem using Highs solver\n",
      "INFO:linopy.io:Writing objective.\n",
      "Writing constraints.: 100%|\u001B[38;2;128;191;255m██████████\u001B[0m| 6/6 [00:00<00:00,  7.18it/s]\n",
      "Writing continuous variables.: 100%|\u001B[38;2;128;191;255m██████████\u001B[0m| 2/2 [00:00<00:00, 13.64it/s]\n",
      "INFO:linopy.io: Writing time: 1.05s\n",
      "INFO:linopy.constants: Optimization successful: \n",
      "Status: ok\n",
      "Termination condition: optimal\n",
      "Solution: 26283 primals, 61324 duals\n",
      "Objective: 2.44e+10\n",
      "Solver model: available\n",
      "Solver message: optimal\n",
      "\n",
      "INFO:pypsa.optimization.optimize:The shadow-prices of the constraints Generator-ext-p-lower, Generator-ext-p-upper were not assigned to the network.\n"
     ]
    },
    {
     "data": {
      "text/plain": [
       "('ok', 'optimal')"
      ]
     },
     "execution_count": 223,
     "metadata": {},
     "output_type": "execute_result"
    }
   ],
   "source": [
    "co2_limit=3395000 #tonCO2\n",
    "#look at the emissions the netherlands emitted in 2015, and put a cap\n",
    "network.add(\"GlobalConstraint\",\n",
    "            \"co2_limit\",\n",
    "            type=\"primary_energy\",\n",
    "            carrier_attribute=\"co2_emissions\",\n",
    "            sense=\"<=\",\n",
    "            constant=co2_limit)\n",
    "network.optimize()"
   ]
  },
  {
   "cell_type": "code",
   "execution_count": null,
   "metadata": {
    "ExecuteTime": {
     "end_time": "2025-04-23T08:49:47.131082300Z",
     "start_time": "2025-03-07T13:59:41.294186Z"
    },
    "id": "8_oJlpGdlh-W",
    "outputId": "3420bfa2-7528-4fa6-8b96-2df0343fab5d"
   },
   "outputs": [
    {
     "data": {
      "text/plain": [
       "Generator\n",
       "onshorewind    273144.976572\n",
       "solar           71064.043179\n",
       "OCGT            14954.550234\n",
       "Name: p_nom_opt, dtype: float64"
      ]
     },
     "execution_count": 224,
     "metadata": {},
     "output_type": "execute_result"
    }
   ],
   "source": [
    "network.generators.p_nom_opt #in MW"
   ]
  },
  {
   "cell_type": "code",
   "execution_count": null,
   "metadata": {
    "ExecuteTime": {
     "end_time": "2025-04-23T08:49:47.131082300Z",
     "start_time": "2025-03-07T13:59:41.396782Z"
    },
    "id": "HkKD7FnAlh-X",
    "outputId": "a4001478-76b3-4de9-d59f-cc04fd82be68"
   },
   "outputs": [
    {
     "data": {
      "text/plain": [
       "<matplotlib.legend.Legend at 0x1c985bfb140>"
      ]
     },
     "execution_count": 225,
     "metadata": {},
     "output_type": "execute_result"
    },
    {
     "data": {
      "image/png": "[encoded data removed]",
      "text/plain": [
       "<Figure size 640x480 with 1 Axes>"
      ]
     },
     "metadata": {},
     "output_type": "display_data"
    }
   ],
   "source": [
    "plt.plot(network.loads_t.p['load'][0:96], color='black', label='demand')\n",
    "plt.plot(network.generators_t.p['onshorewind'][0:96], color='blue', label='onshore wind')\n",
    "plt.plot(network.generators_t.p['solar'][0:96], color='orange', label='solar')\n",
    "plt.plot(network.generators_t.p['OCGT'][0:96], color='brown', label='gas (OCGT)')\n",
    "plt.legend(fancybox=True, shadow=True, loc='best')"
   ]
  },
  {
   "cell_type": "code",
   "execution_count": null,
   "metadata": {
    "ExecuteTime": {
     "end_time": "2025-04-23T08:49:47.131082300Z",
     "start_time": "2025-03-07T13:59:41.657370Z"
    },
    "id": "5DNfcgS7lh-X",
    "outputId": "9e77e31b-3559-4739-a461-1868b5887401"
   },
   "outputs": [
    {
     "data": {
      "text/plain": [
       "Text(0.5, 1.07, 'Electricity mix')"
      ]
     },
     "execution_count": 226,
     "metadata": {},
     "output_type": "execute_result"
    },
    {
     "data": {
      "image/png": "[encoded data removed]",
      "text/plain": [
       "<Figure size 640x480 with 1 Axes>"
      ]
     },
     "metadata": {},
     "output_type": "display_data"
    }
   ],
   "source": [
    "labels = ['onshore wind', 'solar', 'gas (OCGT)' ]\n",
    "sizes = [network.generators_t.p['onshorewind'].sum(),\n",
    "         network.generators_t.p['solar'].sum(),\n",
    "         network.generators_t.p['OCGT'].sum()]\n",
    "\n",
    "colors = ['blue', 'orange', 'brown']\n",
    "\n",
    "plt.pie(sizes,\n",
    "        colors=colors,\n",
    "        labels=labels,\n",
    "        wedgeprops={'linewidth':0})\n",
    "plt.axis('equal')\n",
    "\n",
    "plt.title('Electricity mix', y=1.07)"
   ]
  },
  {
   "cell_type": "markdown",
   "metadata": {
    "id": "2WGDHflklh-Y"
   },
   "source": [
    "# PROJECT INSTRUCTIONS\n",
    "\n",
    "\n",
    "Based on the previous example, you are asked to carry out the following tasks:\n",
    "\n",
    "A. Choose a different country/region/city/system and calculate the optimal capacities for renewable and non-renewable generators. You can add as many technologies as you want. Remember to provide a reference for the cost assumptions. Plot the dispatch time series for a week in summer and winter. Plot the annual electricity mix. Use the duration curves or the capacity factor to investigate the contribution of different technologies.\n",
    "\n",
    "B. Investigate how sensitive the optimum capacity mix is to the global CO2 constraint. E.g., plot the generation mix as a function of the CO2 constraint that you impose. Search for the CO2 emissions in your country (today or in 1990) and refer to the emissions allowance to that historical data.\n",
    "\n",
    "C. Investigate how sensitive your results are to the interannual variability of solar and wind generation. Plot the average capacity and variability obtained for every generator using different weather years.\n",
    "\n",
    "D. Add some storage technology/ies and investigate how they behave and what their impact is on the optimal system configuration. Discuss what strategies is your system using to balance the renewable generation at different time scales (intraday, seasonal, etc.)\n",
    "\n",
    "E. Select one target for decarbonization (i.e., one CO2 allowance limit). What is the CO2 price required to achieve that decarbonization level? Search for information on the existing CO2 tax in your country (if any) and discuss your results.\n",
    "\n",
    "F. Connect your country with, at least, two neighbouring countries. You can connect them using HVAC lines, HVDC links or gas pipelines. Use a linear representation of power flow or gas flow. \n",
    "You can assume that the generation capacities in the neighbouring countries are fixed or optimize the whole system. You can also include fixed interconnection capacities or optimize them with the generators' capacities. Discuss your results.\n",
    "\n",
    "G. Connect the electricity sector with, at least, another sector( e.g. heating or transport), and co-optimize all the sectors. Discuss your results.\n",
    "\n",
    "H. Finally, select one topic that is under discussion in your region. Design and implement some experiment to obtain relevant information regarding that topic. E.g.\n",
    "\n",
    "- What are the consequences if Denmark decides not to install more onshore wind?\n",
    "\n",
    "- Would it be more expensive if France decides to close its nuclear power plants?\n",
    "\n",
    "- What will be the main impacts of the Viking link?\n",
    "\n",
    "- How does gas scarcity impact the optimal system configuration?\n",
    "\n",
    "**Write a short report (maximum length 10 pages) in groups of 4 students including your main findings.**"
   ]
  },
  {
   "cell_type": "markdown",
   "metadata": {
    "id": "aBCHuFcqlh-Z"
   },
   "source": [
    "# Hints"
   ]
  },
  {
   "cell_type": "markdown",
   "metadata": {
    "id": "o6CslGgLlh-Z"
   },
   "source": [
    "_HINT 1: You can add a link with the following code_\n",
    "\n",
    "The efficiency will be 1 if you are connecting two countries and different from one if, for example, you are connecting the electricity bus to the heating bus using a heat pump.\n",
    "Setting p_min_pu=-1 makes the link reversible.\n"
   ]
  },
  {
   "cell_type": "code",
   "execution_count": null,
   "metadata": {
    "ExecuteTime": {
     "end_time": "2025-04-23T08:49:47.131082300Z",
     "start_time": "2025-03-07T13:59:41.776587Z"
    },
    "id": "dacbdHP5lh-a",
    "outputId": "9aebeeb8-31dc-4abb-aab7-a20f89b07525"
   },
   "outputs": [
    {
     "name": "stderr",
     "output_type": "stream",
     "text": [
      "WARNING:pypsa.io:The following Link have buses which are not defined:\n",
      "Index(['country a - country b'], dtype='object')\n",
      "WARNING:pypsa.io:The following Link have buses which are not defined:\n",
      "Index(['country a - country b'], dtype='object')\n"
     ]
    },
    {
     "data": {
      "text/plain": [
       "Index(['country a - country b'], dtype='object')"
      ]
     },
     "execution_count": 227,
     "metadata": {},
     "output_type": "execute_result"
    }
   ],
   "source": [
    "network.add(\"Link\",\n",
    "             'country a - country b',\n",
    "             bus0=\"electricity bus country a\",\n",
    "             bus1=\"electricity bus country b\",\n",
    "             p_nom_extendable=True, # capacity is optimised\n",
    "             p_min_pu=-1,\n",
    "             length=600, # length (in km) between country a and country b\n",
    "             capital_cost=400*600) # capital cost * length"
   ]
  },
  {
   "cell_type": "markdown",
   "metadata": {
    "id": "PO1tqlyAlh-b"
   },
   "source": [
    "_HINT 2: You can check the KKT multiplier associated with the constraint with the following code_"
   ]
  },
  {
   "cell_type": "code",
   "execution_count": null,
   "metadata": {
    "ExecuteTime": {
     "end_time": "2025-04-23T08:49:47.152870Z",
     "start_time": "2025-03-07T13:59:41.844890Z"
    },
    "id": "OZ_MbDP3lh-b",
    "outputId": "db8ce0d1-d76b-4d83-cd2d-613b0ef9f1b7"
   },
   "outputs": [
    {
     "name": "stdout",
     "output_type": "stream",
     "text": [
      "GlobalConstraint\n",
      "co2_limit    1000000.0\n",
      "Name: constant, dtype: float64\n",
      "GlobalConstraint\n",
      "co2_limit   -14938.515958\n",
      "Name: mu, dtype: float64\n"
     ]
    }
   ],
   "source": [
    "print(network.global_constraints.constant) # CO2 limit (constant in the constraint)\n",
    "print(network.global_constraints.mu) # CO2 price (Lagrance multiplier in the constraint)"
   ]
  },
  {
   "cell_type": "markdown",
   "metadata": {
    "id": "OcVr88xrlh-c"
   },
   "source": [
    "_HINT 3: You can add a H2 store connected to the electricity bus via an electrolyzer and a fuel cell with the following code_"
   ]
  },
  {
   "cell_type": "code",
   "execution_count": null,
   "metadata": {
    "ExecuteTime": {
     "end_time": "2025-04-23T08:49:47.152870Z",
     "start_time": "2025-03-07T13:59:41.920921Z"
    },
    "id": "klremPFWlh-c"
   },
   "outputs": [
    {
     "data": {
      "text/plain": [
       "Index(['H2 Fuel Cell'], dtype='object')"
      ]
     },
     "execution_count": 229,
     "metadata": {},
     "output_type": "execute_result"
    }
   ],
   "source": [
    "#Create a new carrier\n",
    "network.add(\"Carrier\",\n",
    "              \"H2\")\n",
    "\n",
    "#Create a new bus\n",
    "network.add(\"Bus\",\n",
    "          \"H2\",\n",
    "          carrier = \"H2\")\n",
    "\n",
    "#Connect the store to the bus\n",
    "network.add(\"Store\",\n",
    "          \"H2 Tank\",\n",
    "          bus = \"H2\",\n",
    "          e_nom_extendable = True,\n",
    "          e_cyclic = True,\n",
    "          capital_cost = annuity(25, 0.07)*57000*(1+0.011))\n",
    "\n",
    "#Add the link \"H2 Electrolysis\" that transport energy from the electricity bus (bus0) to the H2 bus (bus1)\n",
    "#with 80% efficiency\n",
    "network.add(\"Link\",\n",
    "          \"H2 Electrolysis\",\n",
    "          bus0 = \"electricity bus\",\n",
    "          bus1 = \"H2\",\n",
    "          p_nom_extendable = True,\n",
    "          efficiency = 0.8,\n",
    "          capital_cost = annuity(25, 0.07)*600000*(1+0.05))\n",
    "\n",
    "#Add the link \"H2 Fuel Cell\" that transports energy from the H2 bus (bus0) to the electricity bus (bus1)\n",
    "#with 58% efficiency\n",
    "network.add(\"Link\",\n",
    "          \"H2 Fuel Cell\",\n",
    "          bus0 = \"H2\",\n",
    "          bus1 = \"electricity bus\",\n",
    "          p_nom_extendable = True,\n",
    "          efficiency = 0.58,\n",
    "          capital_cost = annuity(10, 0.07)*1300000*(1+0.05))\n"
   ]
  },
  {
   "cell_type": "markdown",
   "metadata": {},
   "source": [
    "_HINT 4: You can get inspiration for plotting the flows in the network in the following example_\n",
    "\n",
    "https://pypsa.readthedocs.io/en/latest/examples/flow-plot.html"
   ]
  },
  {
   "cell_type": "code",
   "execution_count": null,
   "metadata": {
    "ExecuteTime": {
     "end_time": "2025-04-23T08:49:47.175524200Z",
     "start_time": "2025-03-07T13:59:41.974401Z"
    }
   },
   "outputs": [],
   "source": []
  }
 ],
 "metadata": {
  "colab": {
   "provenance": []
  },
  "kernelspec": {
   "display_name": "base",
   "language": "python",
   "name": "python3"
  },
  "language_info": {
   "codemirror_mode": {
    "name": "ipython",
    "version": 3
   },
   "file_extension": ".py",
   "mimetype": "text/x-python",
   "name": "python",
   "nbconvert_exporter": "python",
   "pygments_lexer": "ipython3",
   "version": "3.12.7"
  }
 },
 "nbformat": 4,
 "nbformat_minor": 4
}
